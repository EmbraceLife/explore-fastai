{
 "cells": [
  {
   "cell_type": "code",
   "execution_count": 1,
   "id": "18af36f2",
   "metadata": {
    "ExecuteTime": {
     "end_time": "2022-07-04T23:49:10.158618Z",
     "start_time": "2022-07-04T23:49:05.866095Z"
    }
   },
   "outputs": [],
   "source": [
    "from fastcore.utils import *\n",
    "import gradio as gr"
   ]
  },
  {
   "cell_type": "code",
   "execution_count": 2,
   "id": "a731678f",
   "metadata": {
    "ExecuteTime": {
     "end_time": "2022-07-04T23:49:10.217846Z",
     "start_time": "2022-07-04T23:49:10.212181Z"
    }
   },
   "outputs": [],
   "source": [
    "def fix_imgs(src, dst):\n",
    "    found = {n:(s,f) for n,s,f in\n",
    "             re.findall(r'!\\[(\\S+)\\|(\\S+)\\]\\((\\S+)\\)', src)}\n",
    "\n",
    "    def repl_img(x):\n",
    "        res = found.get(x.group(1))\n",
    "        if res:\n",
    "            sz,nm = res\n",
    "            return f'![{x.group(1)}|{sz}]({nm})'\n",
    "        else: return f'MISSING IMAGE: {x.group(1)}'\n",
    "    \n",
    "    result = re.sub(r'!\\[\\[([^.]+)\\.\\w+(\\|\\d+)?\\]\\]', repl_img, dst)\n",
    "    return result"
   ]
  },
  {
   "cell_type": "code",
   "execution_count": 3,
   "id": "608a8562",
   "metadata": {
    "ExecuteTime": {
     "end_time": "2022-07-04T23:49:10.267444Z",
     "start_time": "2022-07-04T23:49:10.259757Z"
    }
   },
   "outputs": [],
   "source": [
    "def fix_imgs_with_hide(src, dst):\n",
    "    if dst != \"\":\n",
    "        result_no_hide = fix_imgs(src, dst)\n",
    "    else:\n",
    "        result_no_hide = src\n",
    "    \n",
    "    def add_hide_top_func(x):\n",
    "        add_hide_top = \"\"\"\\n\\n[details='Images']\\n\\n\"\"\"\n",
    "        return     f'{x.group(1)}{add_hide_top}{x.group(2)}'\n",
    "\n",
    "    result_top_hide = re.sub(r'([\\.|\\?|\\w|\\`][\\s]*)([\\n]*!\\[[^|]+\\|\\S+\\]\\(\\S+\\))', add_hide_top_func, result_no_hide)\n",
    "\n",
    "    def add_hide_bottom_func(x):\n",
    "        add_hide_bottom = \"\"\"[/details]\\n\\n\"\"\"\n",
    "        return     f'{x.group(1)}{add_hide_bottom}{x.group(2)}'\n",
    "\n",
    "    return re.sub(r'(!\\[[^|]+\\|\\S+\\]\\(\\S+\\)[\\n]+)(\\w|#)', add_hide_bottom_func, result_top_hide)"
   ]
  },
  {
   "cell_type": "markdown",
   "id": "98e6e321",
   "metadata": {},
   "source": [
    "Be aware! before image links, there should not be `]` or `)` and there should be no `.` in image names"
   ]
  },
  {
   "cell_type": "code",
   "execution_count": 14,
   "id": "a1289422",
   "metadata": {
    "ExecuteTime": {
     "end_time": "2022-07-04T23:53:44.819777Z",
     "start_time": "2022-07-04T23:53:44.674068Z"
    }
   },
   "outputs": [
    {
     "name": "stdout",
     "output_type": "stream",
     "text": [
      "-   [51:27](https://www.youtube.com/watch?v=RLvUfyLcT48&t=1780s&loop=10&start=51:27&end=52:33) What is a Learner  \r\n",
      "- What do you give to a learner, e.g., vision_learner? #code\r\n",
      "-   [52:33](https://www.youtube.com/watch?v=RLvUfyLcT48&t=1780s&loop=10&start=52:33&end=53:46) TIMM: largest collection of CV models  \r\n",
      "- Is fastai the first and only framework implement TIMM? #surprise - Can you use any model from TIMM in your project? - Where can you learn more of TIMM?\r\n",
      "-   [53:46](https://www.youtube.com/watch?v=RLvUfyLcT48&t=1780s&loop=10&start=53:46&end=54:51) Resnet 18: a pretrained model  \r\n",
      "- What is a pretrained model, Resnet18? - What did this model learn from? - What come out of this model's learning? - or what is Kaggle downloading exactly?\r\n",
      "-   [54:51](https://www.youtube.com/watch?v=RLvUfyLcT48&t=1780s&loop=10&start=54:51&end=55:34) Fine tuning  \r\n",
      "- What exactly does fine tuning do to the pretrained model? #fine-tuning - What does fine-tuning want the model to learn from your dataset compared with the pretrained dataset?\r\n",
      "-   [55:34](https://www.youtube.com/watch?v=RLvUfyLcT48&loop=10&start=55:34&end=56:48) Prediction  \r\n",
      "- How to use the fine tuned model to make predictions? #code\r\n"
     ]
    }
   ],
   "source": [
    "!head src.txt"
   ]
  },
  {
   "cell_type": "code",
   "execution_count": 19,
   "id": "dd95b2bf",
   "metadata": {
    "ExecuteTime": {
     "end_time": "2022-07-04T23:56:54.415861Z",
     "start_time": "2022-07-04T23:56:54.408871Z"
    }
   },
   "outputs": [],
   "source": [
    "src_txt = Path('src.txt').read_text()"
   ]
  },
  {
   "cell_type": "code",
   "execution_count": 20,
   "id": "3b70200a",
   "metadata": {
    "ExecuteTime": {
     "end_time": "2022-07-04T23:56:59.949381Z",
     "start_time": "2022-07-04T23:56:59.943108Z"
    },
    "scrolled": true
   },
   "outputs": [
    {
     "name": "stdout",
     "output_type": "stream",
     "text": [
      "['-   [51:27', '-   [52:33', '-   [53:46', '-   [54:51', '-   [55:34', '-   [56:48', '-   [58:49', '-   [01:00', '-   [01:03', '-   [01:04', '-   [01:06', '-   [01:10', '-   [01:12', '-   [01:13', '-   [01:14', '-   [01:20']\n"
     ]
    }
   ],
   "source": [
    "print(re.findall(r'\\-\\s*\\[\\d+:\\d+', src_txt))"
   ]
  },
  {
   "cell_type": "code",
   "execution_count": 32,
   "id": "2f48b33f",
   "metadata": {
    "ExecuteTime": {
     "end_time": "2022-07-05T00:06:10.492222Z",
     "start_time": "2022-07-05T00:06:10.484825Z"
    }
   },
   "outputs": [
    {
     "name": "stdout",
     "output_type": "stream",
     "text": [
      "[('-   ', '[51:27'), ('-   ', '[52:33'), ('-   ', '[53:46'), ('-   ', '[54:51'), ('-   ', '[55:34'), ('-   ', '[56:48'), ('-   ', '[58:49'), ('-   ', '[01:00'), ('-   ', '[01:03'), ('-   ', '[01:04'), ('-   ', '[01:06'), ('-   ', '[01:10'), ('-   ', '[01:12'), ('-   ', '[01:13'), ('-   ', '[01:14'), ('-   ', '[01:20')]\n"
     ]
    }
   ],
   "source": [
    "print(re.findall(r'(\\-\\s*)(\\[\\d+:\\d+)', src_txt))"
   ]
  },
  {
   "cell_type": "code",
   "execution_count": 31,
   "id": "93c91b98",
   "metadata": {
    "ExecuteTime": {
     "end_time": "2022-07-05T00:05:09.325546Z",
     "start_time": "2022-07-05T00:05:09.183485Z"
    }
   },
   "outputs": [
    {
     "name": "stdout",
     "output_type": "stream",
     "text": [
      "-   [51:27](https://www.youtube.com/watch?v=RLvUfyLcT48&t=1780s&loop=10&start=51:27&end=52:33) What is a Learner  \r\n",
      "- What do you give to a learner, e.g., vision_learner? #code\r\n",
      "-   [52:33](https://www.youtube.com/watch?v=RLvUfyLcT48&t=1780s&loop=10&start=52:33&end=53:46) TIMM: largest collection of CV models  \r\n",
      "- Is fastai the first and only framework implement TIMM? #surprise - Can you use any model from TIMM in your project? - Where can you learn more of TIMM?\r\n",
      "-   [53:46](https://www.youtube.com/watch?v=RLvUfyLcT48&t=1780s&loop=10&start=53:46&end=54:51) Resnet 18: a pretrained model  \r\n",
      "- What is a pretrained model, Resnet18? - What did this model learn from? - What come out of this model's learning? - or what is Kaggle downloading exactly?\r\n",
      "-   [54:51](https://www.youtube.com/watch?v=RLvUfyLcT48&t=1780s&loop=10&start=54:51&end=55:34) Fine tuning  \r\n",
      "- What exactly does fine tuning do to the pretrained model? #fine-tuning - What does fine-tuning want the model to learn from your dataset compared with the pretrained dataset?\r\n",
      "-   [55:34](https://www.youtube.com/watch?v=RLvUfyLcT48&loop=10&start=55:34&end=56:48) Prediction  \r\n",
      "- How to use the fine tuned model to make predictions? #code\r\n"
     ]
    }
   ],
   "source": [
    "!head src.txt"
   ]
  },
  {
   "cell_type": "code",
   "execution_count": null,
   "id": "a0290853",
   "metadata": {},
   "outputs": [],
   "source": []
  },
  {
   "cell_type": "code",
   "execution_count": 33,
   "id": "beb2957c",
   "metadata": {
    "ExecuteTime": {
     "end_time": "2022-07-05T00:14:57.225612Z",
     "start_time": "2022-07-05T00:14:57.218540Z"
    }
   },
   "outputs": [
    {
     "name": "stdout",
     "output_type": "stream",
     "text": [
      "#### [51:27](https://www.youtube.com/watch?v=RLvUfyLcT48&t=1780s&loop=10&start=51:27&end=52:33) What is a Learner  \n",
      "- What do you give to a learner, e.g., vision_learner? #code\n",
      "#### [52:33](https://www.youtube.com/watch?v=RLvUfyLcT48&t=1780s&loop=10&start=52:33&end=53:46) TIMM: largest collection of CV models  \n",
      "- Is fastai the first and only framework implement TIMM? #surprise - Can you use any model from TIMM in your project? - Where can you learn more of TIMM?\n",
      "#### [53:46](https://www.youtube.com/watch?v=RLvUfyLcT48&t=1780s&loop=10&start=53:46&end=54:51) Resnet 18: a pretrained model  \n",
      "- What is a pretrained model, Resnet18? - What did this model learn from? - What come out of this model's learning? - or what is Kaggle downloading exactly?\n",
      "#### [54:51](https://www.youtube.com/watch?v=RLvUfyLcT48&t=1780s&loop=10&start=54:51&end=55:34) Fine tuning  \n",
      "- What exactly does fine tuning do to the pretrained model? #fine-tuning - What does fine-tuning want the model to learn from your dataset compared with the pretrained dataset?\n",
      "#### [55:34](https://www.youtube.com/watch?v=RLvUfyLcT48&loop=10&start=55:34&end=56:48) Prediction  \n",
      "- How to use the fine tuned model to make predictions? #code\n",
      "#### [56:48](https://www.youtube.com/watch?v=RLvUfyLcT48&loop=10&start=56:48&end=58:49) Other CV model uses: Segmentation  \n",
      "- Can we fine tune pretrained CV models to tell us the object each and every pixel on a photo belong to?\n",
      "#### [58:49](https://www.youtube.com/watch?v=RLvUfyLcT48&loop=10&start=58:49&end=01:00:31) Specialized DataLoaders  \n",
      "- Why do we need specialized DataLoaders like SegmentationDataLoaders given DataBlock?\n",
      "#### [01:00:31](https://www.youtube.com/watch?v=RLvUfyLcT48&loop=10&start=01:00:31&end=01:03:22) Non-CV: Tabular analysis  \n",
      "- What can tabular analysis do? Can we use a bunch of columns to predict another column of a table? - How do you download all kinds of dataset for training easily with fastai? untar_data - What are the parameters for TabularDataLoaders? - What is the best practice show_batch of fastai learned from Julia (another popular language)? - Why to use fit_one_cycle instead of fine_tune for tabular dataset?\n",
      "#### [01:03:22](https://www.youtube.com/watch?v=RLvUfyLcT48&loop=10&start=01:03:22&end=01:06:54) Non-CV: Collaborative filtering  \n",
      "- Can we use collaborative filtering to make movie recommendations for users? - How does recommendation system work? - Can collaborative filtering models learn from data of similar music users and recommend/predict music for new users based on how similar they are to existing users?\n",
      "#### [01:04:34](https://www.youtube.com/watch?v=RLvUfyLcT48&loop=10&start=01:04:34&end=01:06:53) Recommending with collaborative filtering  \n",
      "- How to download dataset for collaborative filtering models? - How to use CollabDataLoaders? - How to build a collaborative filtering model with collab_learner? - What is the best practice for setting y_range for collab_learner? #best-practice - If in theory no reason to use pretrained collab models, and fine_tune works as good as fit or fit_one_cycle, any good explanations for it? #question - How to show results of this recommendation model using show_results?\n",
      "#### [01:06:53](https://www.youtube.com/watch?v=RLvUfyLcT48&loop=10&start=01:06:53&end=01:10:06) Jupyter Notebook: everything you need\n",
      "#### [01:10:06](https://www.youtube.com/watch?v=RLvUfyLcT48&loop=10&start=01:10:06&end=01:12:33) Deep learning: its present capacity span  \n",
      "- What can Deep Learning do at the present? - What are the tasks that deep learning may not be good at?\n",
      "#### [01:12:33](https://www.youtube.com/watch?v=RLvUfyLcT48&loop=10&start=01:12:33&end=01:13:21) First neuralnet model in 1959  \n",
      "- Has the basic idea of deep learning changed much since 1959?\n",
      "#### [01:13:21](https://www.youtube.com/watch?v=RLvUfyLcT48&loop=10&start=01:13:21&end=01:14:37) Programs before machine/deep learning  \n",
      "- What did we write into programs/models before deep learning? - How to draw chart in jupyter notebook?\n",
      "#### [01:14:37](https://www.youtube.com/watch?v=RLvUfyLcT48&loop=10&start=01:14:37&end=01:20:25) Deep learning theory in 5 minute  \n",
      "- Can you explain DL theory in 5 min? #surprise - What is a model? - What are weights? - How do data, weights and model work together to produce result? - Why are the initial results are no good at all? - Can we design a function to tell the model how good it is doing? loss function - Then can we find a way to update/improve weights by knowing how bad/good the model is learning each time from the data? - If we can iterate the cycle multiple times, can we build a powerful model?\n",
      "#### [01:20:28](https://www.youtube.com/watch?v=RLvUfyLcT48&loop=10&start=01:20:28&end=01:25:08.70) Homework  \n",
      "- Run notebooks, especially the bird notebook - Create something interesting to you based on the bird notebook - Read the first chapter of the book - Be inspired by all the amazing student projects\n"
     ]
    }
   ],
   "source": [
    "def add_heading(x):\n",
    "    return f'#### {x.group(2)}'\n",
    "\n",
    "res = re.sub(r'(\\-\\s*)(\\[\\d+:\\d+)', add_heading, src_txt)\n",
    "print(res)\n"
   ]
  },
  {
   "cell_type": "code",
   "execution_count": null,
   "id": "ba91ce90",
   "metadata": {},
   "outputs": [],
   "source": []
  }
 ],
 "metadata": {
  "kernelspec": {
   "display_name": "Python 3 (ipykernel)",
   "language": "python",
   "name": "python3"
  },
  "language_info": {
   "codemirror_mode": {
    "name": "ipython",
    "version": 3
   },
   "file_extension": ".py",
   "mimetype": "text/x-python",
   "name": "python",
   "nbconvert_exporter": "python",
   "pygments_lexer": "ipython3",
   "version": "3.9.10"
  },
  "varInspector": {
   "cols": {
    "lenName": 16,
    "lenType": 16,
    "lenVar": 40
   },
   "kernels_config": {
    "python": {
     "delete_cmd_postfix": "",
     "delete_cmd_prefix": "del ",
     "library": "var_list.py",
     "varRefreshCmd": "print(var_dic_list())"
    },
    "r": {
     "delete_cmd_postfix": ") ",
     "delete_cmd_prefix": "rm(",
     "library": "var_list.r",
     "varRefreshCmd": "cat(var_dic_list()) "
    }
   },
   "types_to_exclude": [
    "module",
    "function",
    "builtin_function_or_method",
    "instance",
    "_Feature"
   ],
   "window_display": false
  }
 },
 "nbformat": 4,
 "nbformat_minor": 5
}
