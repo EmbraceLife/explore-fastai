{
 "cells": [
  {
   "cell_type": "markdown",
   "id": "d16b52d2",
   "metadata": {
    "toc": true
   },
   "source": [
    "<h1>Table of Contents<span class=\"tocSkip\"></span></h1>\n",
    "<div class=\"toc\"><ul class=\"toc-item\"><li><span><a href=\"#daniel-image-fix-code\" data-toc-modified-id=\"daniel-image-fix-code-1\"><span class=\"toc-item-num\">1&nbsp;&nbsp;</span>daniel-image-fix code</a></span></li><li><span><a href=\"#Experiment\" data-toc-modified-id=\"Experiment-2\"><span class=\"toc-item-num\">2&nbsp;&nbsp;</span>Experiment</a></span></li><li><span><a href=\"#production\" data-toc-modified-id=\"production-3\"><span class=\"toc-item-num\">3&nbsp;&nbsp;</span>production</a></span></li></ul></div>"
   ]
  },
  {
   "cell_type": "markdown",
   "id": "8ec65de3",
   "metadata": {},
   "source": [
    "## daniel-image-fix code"
   ]
  },
  {
   "cell_type": "code",
   "execution_count": 2,
   "id": "912c8bd5",
   "metadata": {
    "ExecuteTime": {
     "end_time": "2022-07-07T03:30:43.500227Z",
     "start_time": "2022-07-07T03:30:37.838847Z"
    }
   },
   "outputs": [],
   "source": [
    "from fastcore.utils import *\n",
    "import gradio as gr"
   ]
  },
  {
   "cell_type": "code",
   "execution_count": 18,
   "id": "a731678f",
   "metadata": {
    "ExecuteTime": {
     "end_time": "2022-07-07T03:50:09.603635Z",
     "start_time": "2022-07-07T03:50:09.584458Z"
    }
   },
   "outputs": [],
   "source": [
    "def fix_imgs(src, dst):\n",
    "    found = {n:(s,f) for n,s,f in\n",
    "             re.findall(r'!\\[(\\S+)\\|(\\S+)\\]\\((\\S+)\\)', src)}\n",
    "\n",
    "    def repl_img(x):\n",
    "        res = found.get(x.group(1))\n",
    "        if res:\n",
    "            sz,nm = res\n",
    "            return f'![{x.group(1)}|{sz}]({nm})'\n",
    "        else: return f'MISSING IMAGE: {x.group(1)}'\n",
    "    \n",
    "#     result = re.sub(r'!\\[\\[([^.]+)\\.\\w+(\\|\\d+)?\\]\\]', repl_img, dst)\n",
    "    result = re.sub(r'!\\[\\[(\\S+)\\.(png|jpeg)(\\|\\d+)?\\]\\]', repl_img, dst)\n",
    "    return result"
   ]
  },
  {
   "cell_type": "code",
   "execution_count": 19,
   "id": "608a8562",
   "metadata": {
    "ExecuteTime": {
     "end_time": "2022-07-07T03:50:10.353787Z",
     "start_time": "2022-07-07T03:50:10.345907Z"
    }
   },
   "outputs": [],
   "source": [
    "def fix_imgs_with_hide(src, dst):\n",
    "    if dst != \"\":\n",
    "        result_no_hide = fix_imgs(src, dst)\n",
    "    else:\n",
    "        result_no_hide = src\n",
    "    \n",
    "    def add_hide_top_func(x):\n",
    "        add_hide_top = \"\"\"\\n\\n[details='Images']\\n\\n\"\"\"\n",
    "        return     f'{x.group(1)}{add_hide_top}{x.group(2)}'\n",
    "\n",
    "    result_top_hide = re.sub(r'([\\.|\\?|\\w|\\`][\\s]*)([\\n]*!\\[[^|]+\\|\\S+\\]\\(\\S+\\))', add_hide_top_func, result_no_hide)\n",
    "\n",
    "    def add_hide_bottom_func(x):\n",
    "        add_hide_bottom = \"\"\"[/details]\\n\\n\"\"\"\n",
    "        return     f'{x.group(1)}{add_hide_bottom}{x.group(2)}'\n",
    "\n",
    "    return re.sub(r'(!\\[[^|]+\\|\\S+\\]\\(\\S+\\)[\\n]+)(\\w|#)', add_hide_bottom_func, result_top_hide)"
   ]
  },
  {
   "cell_type": "code",
   "execution_count": 20,
   "id": "c04fc721",
   "metadata": {
    "ExecuteTime": {
     "end_time": "2022-07-07T03:50:12.284344Z",
     "start_time": "2022-07-07T03:50:12.254370Z"
    }
   },
   "outputs": [
    {
     "name": "stdout",
     "output_type": "stream",
     "text": [
      "\n",
      "#### [03:51](https://youtu.be/dg8fR9qUz18?t=231) What will part 2 feel like? a lot deeper technically? Able to read and implement research papers? Models involve real life situations?\n",
      "\n",
      "#### [04:46](https://youtu.be/dg8fR9qUz18?t=286) Review build a neuralnet from scratch. How Pytorch create a neuralnet effortlessly? How Pytorch keep track of model weights through `Module`? How does `Module` store weights with `nn.Parameter`? How to check weights from the model using `parameters()`?\n",
      "\n",
      "\n",
      "[details='Images']\n",
      "\n",
      "![module-parameter|690x284](upload://oyEmyFJW2lsgctzP5IwfMLk4g54.png)\n",
      "\n",
      "[/details]\n",
      "\n",
      "#### You can build a layer in Module with `nn.Linear` without `nn.Parameter` and Pytorch can read weights from it too. \n",
      "\n",
      "\n",
      "[details='Images']\n",
      "\n",
      "![module-layer|690x252](upload://dTKIj6xZTnNFQNF8hi7ZGDZLpWb.png)\n",
      "\n",
      "[/details]\n",
      "\n",
      "#### [07:42](https://youtu.be/htiNBPxcXgo?t=462) How to create the `Embedding` function and the entire `DotProductBias` with pytorch using `create_params` from scratch? After it's trained, the trained movie_bias can be checked. You can check the shape of the bias by `model.movie_bias.shape`\n",
      "\n",
      "\n",
      "[details='Images']\n",
      "\n",
      "![create-embedding|690x216](upload://pDuahr0GLiW37Y8HCVpI1QIB3xo.png)\n",
      "![DotProductBias-pytorch|690x266](upload://uiS37CTyXk9ra7PF5wKGhzAWbyv.png)\n",
      "![movie-bias-trained|690x352](upload://qvlfDGOQXH1oFI7rKADZlW01O0p.jpeg)\n",
      "\n",
      "\n",
      "[/details]\n",
      "\n",
      "#### [11:29](https://youtu.be/htiNBPxcXgo?t=689)  questions: What does `Tensor.normal_` do? \n",
      "\n",
      "\n",
      "[details='Images']\n",
      "\n",
      "![Tensor.Normal_|690x173](upload://o5inkA3fk6zl8idr9aH1DJ5loBI.png)\n",
      "![why-no-zeros|690x74](upload://41yIHu6ML61lyOYxG89Np8HfU7g.png)\n",
      "\n",
      "\n",
      "[/details]\n",
      "\n",
      "#### [12:21](https://youtu.be/htiNBPxcXgo?t=741) After training, what can the `movie_bias` tell us about each and all the movies? What does having a low bias mean for a movie? What does having a high bias mean for a movie? Can user_bias tell us which user just loves movies even the crapy ones? This is visualizing `movie_bias`\n",
      "\n",
      "\n",
      "[details='Images']\n",
      "\n",
      "![interpreting-bias|690x329](upload://87xA7gm9hoJJhdmkYqul8hcoTLx.png)\n",
      "\n",
      "[/details]\n",
      "\n",
      "#### [15:53](https://youtu.be/htiNBPxcXgo?t=953) What can we interpret or do about the huge matrix with shape `(num_users, 50)`? How to shrink the 50 latent factors into just 3 most important factors with `pca`?\n",
      "\n",
      "\n",
      "[details='Images']\n",
      "\n",
      "![shrink-by-pca|690x227](upload://s0TbGzLqyo4EfNMGu1VZV6B3V78.png)\n",
      "\n",
      "[/details]\n",
      "\n",
      "#### How to interpret the PCA chart of movies rated with only just two PCA factors of out 3 compressed by 50 factors? How the taste or style of the movies are condensed into two factors and displayed and defined by the location of the two dimensional chart? This is visualizing movie_factors or embeddings.\n",
      "\n",
      "\n",
      "[details='Images']\n",
      "\n",
      "![compress-movie-taste-by-2-factors|587x500](upload://bdYgs35bDJBVhPV2Jwhf64E22OV.jpeg)\n",
      "\n",
      "\n",
      "[/details]\n",
      "\n",
      "#### [18:06](https://youtu.be/htiNBPxcXgo?t=1086) How fastai makes all the work above easier with just one line of code?\n",
      "\n",
      "\n",
      "[details='Images']\n",
      "\n",
      "![fastai-make-things-easier|559x500](upload://xRCaDruERWttTNT8wPFqVk2A08T.jpeg)\n",
      "\n",
      "[/details]\n",
      "\n",
      "#### [19:57](https://youtu.be/htiNBPxcXgo?t=1197) How fastai construct everything under the hood of `collab_learner`?\n",
      "\n",
      "\n",
      "[details='Images']\n",
      "\n",
      "![collab_learner|690x241](upload://aHimfWxGS58sOfmsXNHRvs8X5xQ.jpeg)\n",
      "![EmbeddingDotBias|690x291](upload://7O6Sb5fCUJ97zaYhfIwvkZwoNa7.png)\n",
      "\n",
      "[/details]\n",
      "\n",
      "#### [21:14](https://youtu.be/htiNBPxcXgo?t=1274) Questions: is PCA useful in other applications? Where to find more of PCA? Why should you take Rachel's Computational Linear Algebra?\n",
      "\n",
      "#### [22:11](https://youtu.be/htiNBPxcXgo?t=1331) How to use Embedding distance to find out movie similarities?\n",
      "\n",
      "\n",
      "[details='Images']\n",
      "\n",
      "![embedding-distance-similarities|690x205](upload://7CLe9U3uF3w7tPaj7hQrBxHenvd.jpeg)\n",
      "\n",
      "[/details]\n",
      "\n",
      "#### [23:47](https://youtu.be/htiNBPxcXgo?t=1427) Go to read the fastbook for boostrapping a collaborative filtering model\n",
      "\n",
      "#### [24:22](https://youtu.be/htiNBPxcXgo?t=1462) How to do collaborative filtering with deep learning instead of matrix completion with dot product above? How to apply the easist neuralnet model architecture onto this collaborative filtering case?\n",
      "\n",
      "\n",
      "[details='Images']\n",
      "\n",
      "![deep-learning-colab-filter|690x273](upload://6AT3RJhfT54QhkQDx9MktPE7tkU.jpeg)\n",
      "\n",
      "[/details]\n",
      "\n",
      "#### [26:14](https://youtu.be/htiNBPxcXgo?t=1574) How does fastai use rules of thumb to recommend the number of latent factors for users and movies? \n",
      "\n",
      "\n",
      "[details='Images']\n",
      "\n",
      "![number-latent-factors|690x154](upload://g29NjwwIXVyxqFjaNGiFTIaCIUa.png)\n",
      "\n",
      "[/details]\n",
      "\n",
      "#### How does fastai use deep learning to build collaborative filtering model in two ways?\n",
      "\n",
      "\n",
      "[details='Images']\n",
      "\n",
      "![dl-way-2|690x391](upload://7Jd3opXbAWlQ2AMCeZqvtt3I3RG.jpeg)\n",
      "\n",
      "\n",
      "[/details]\n",
      "\n",
      "#### [27:48](https://youtu.be/htiNBPxcXgo?t=1668)  Why the deep learning versions are not as good as DotProduct version? Is it because DotProduct is more tailored to the problem? How do companies combine both versions to do collaborative filtering? When you have lots of metadata, should you apply deep learning to it? How would you use metadata in the model?\n",
      "\n",
      "#### [28:49](https://youtu.be/htiNBPxcXgo?t=1729) Questions: Can a smaller number of users and movies overwhelm everybody else? e.g., a small group of anime enthusiasts watch a lot of anime movies and give super high ratings. Details of how to deal with them won't be discussed here\n",
      "\n",
      "#### [30:25](https://youtu.be/htiNBPxcXgo?t=1825) How to apply embedding matrix into NLP model through a spreadsheet demo? What's the essense of neuralnet?\n",
      "\n",
      "\n",
      "[details='Images']\n",
      "\n",
      "![embedding-nlp|561x500](upload://2kp6PKlCrEpYslxyCg1jEolZom7.jpeg)\n",
      "\n",
      "\n",
      "[/details]\n",
      "\n",
      "#### [34:56](https://youtu.be/htiNBPxcXgo?t=2096) How to apply embeddings to tabular dataset and models? How to understand `TabularModel` and `tabular_learner` source?\n",
      "\n",
      "#### [39:35](https://youtu.be/htiNBPxcXgo?t=2375) What's going on inside a neuralnet through a shop sale prediction kaggle competition and a paper published based on it?\n",
      "Entity Embeddings of Categorical variables (paper)\n",
      "\n",
      "#### [44:33](https://youtu.be/htiNBPxcXgo?t=2673) So far we have looked at what goes in as inputs and what goes out of a model as outputs. We have also looked at the middle as matrix multiplication. What are convolution (a particular kind of matrix multiplication in the middel)? How is it be very useful to CV? Why MNIST is one of the most famous CV dataset? How does Jeremy apply what Fergus and Zeiler's paper onto MNIST using excel and convolution? \n",
      "\n",
      "#### [49:22](https://youtu.be/htiNBPxcXgo?t=2962) How to understand convolution? What does a filter do and How does it help to detect horizontal and vertical edges? How to determine the size of the filter or kernel (3x3, or 5x5, or any)? conv1 means the first convolutional layer\n",
      "\n",
      "#### [54:48](https://youtu.be/htiNBPxcXgo?t=3288) moving onto the second convolutional layer. Two filters give us two channels on the first convolutional layer. On the second convolutional layer, we create one 3D matrix filter which has two matrix filters to filter/process the two channels out of the first conv layer,  and condense the value. And we can also create a second channle for the 2nd conv layer using another 3D filter.\n",
      "\n",
      "#### [57:07](https://youtu.be/htiNBPxcXgo?t=3427) How to determine the output and use SGD to train the model and optimize the filters? \n",
      "\n",
      "#### [58:00](https://youtu.be/htiNBPxcXgo?t=3480) What is maxpooling? What's the problem of maxpooling? How much data do we lose? Why it is a good thing? What is a dense layer and what does it do? \n",
      "\n",
      "#### [1:00:48](https://youtu.be/htiNBPxcXgo?t=3648) How we do convolution slightly differently today? What is stride-two convolution and how does it work? (no more maxpooling) Then we do a lot of stride-two convolutions until the size shrinked to 7x7 and then do a average_pooling (no more dense layer). What does the 7x7 grid and take an average mean? What is the problem of such approach? When is the good time to use maxpool instead? How fastai made it easy for us to try both pooling by inventing a technique called concat_pooling to maxpool and average_pool and concat them together?  \n",
      "\n",
      "#### [1:05:12](https://youtu.be/htiNBPxcXgo?t=3912) How to understand convolution in terms of matrix multiplications?\n",
      "\n",
      "#### [1:08:21](https://youtu.be/htiNBPxcXgo?t=4101) What is dropout and how to understand it using excel? What is droput mask? What's its effect visually on excel? How to understand dropout as data augmentation for the activations? How does it help avoid overfitting? What's the story of dropout and academia? \n",
      "\n",
      "#### [1:14:27](https://youtu.be/htiNBPxcXgo?t=4467) Why Jeremy not spend much time on activation functions? We have seen many functions on metrics, loss and activations.\n",
      "\n",
      "#### [1:16:27](https://youtu.be/htiNBPxcXgo?t=4587) What to do next before fastai part2? What Radek's book meta learning is about? What are the things to do in Write, Help, Gather and Build?\n",
      "\n",
      "#### [1:19:42](https://youtu.be/htiNBPxcXgo?t=4782) a fastai community member published mish activation used by many state of art models.\n",
      "\n",
      "#### [1:20:41](https://youtu.be/htiNBPxcXgo?t=4841) Jeremy AMA: \n",
      "#### How to keep up? To keep up by focusing in subfield of deep learning and focusing on things that don't change much as the foundations of fastai have not changed much from 5 years ago. Everything else is just tweaks.\n",
      "\n",
      "#### Will huge dataset and GPU computation replace us with small dataset and one gpu? There is always smarter ways of doing things, eg. Fastai team trained on imagenet on standard GPU faster than all companies with huge amount of GPUs. Pick areas of different domains which smaller models can beat the state of the art. \n",
      "\n",
      "#### [1:26:24](https://youtu.be/htiNBPxcXgo?t=5184) How Jeremy to teach kids math? all kids can learn algebra with dragonbox5+. Great, Jeremy promised to talk more about teaching kids some point later. \n",
      "\n",
      "#### [1:28:30](https://youtu.be/htiNBPxcXgo?t=5310) Plans for walkthrus\n",
      "\n",
      "#### [1:30:00](https://youtu.be/htiNBPxcXgo?t=5400) How to turn a model into business? Great news, Jeremy plans to build a course on this! What is the start of a business? What is the first step? How to gradually figure out whether your idea has a real need from people?\n",
      "\n",
      "#### [1:32:50](https://youtu.be/htiNBPxcXgo?t=5570) How Jeremy stay so efficient at working? Finish something nicely, tenacity\n",
      "\n",
      "\n"
     ]
    }
   ],
   "source": [
    "src_txt = Path('src.txt').read_text()\n",
    "dst_txt = Path('dst.txt').read_text()\n",
    "\n",
    "print(fix_imgs_with_hide(src_txt, dst_txt))"
   ]
  },
  {
   "cell_type": "markdown",
   "id": "5af11cd3",
   "metadata": {},
   "source": [
    "## Experiment"
   ]
  },
  {
   "cell_type": "markdown",
   "id": "f5790e5b",
   "metadata": {
    "ExecuteTime": {
     "end_time": "2022-07-05T05:37:53.088210Z",
     "start_time": "2022-07-05T05:37:53.074142Z"
    }
   },
   "source": [
    "!cat > regex-practice/src.txt and ctrl + d to save"
   ]
  },
  {
   "cell_type": "code",
   "execution_count": 23,
   "id": "a1289422",
   "metadata": {
    "ExecuteTime": {
     "end_time": "2022-07-05T05:51:53.542124Z",
     "start_time": "2022-07-05T05:51:53.403681Z"
    }
   },
   "outputs": [
    {
     "name": "stdout",
     "output_type": "stream",
     "text": [
      "-   Lecture 5  \r\n",
      "Build a tabular model from scratch [forum](https://forums.fast.ai/t/lesson-5-official-topic/96491)\r\n",
      "-   00:00 Tabular model from scratch\r\n",
      "-   [00:42](https://youtu.be/_rXzeWq4C6w?t=42) Review Titanic dataset and the two models in excel\r\n",
      "-   [01:30](https://youtu.be/_rXzeWq4C6w?t=90) From excel to python\r\n",
      "-   **Linear model and neuralnet from scratch**\r\n",
      "-   [01:57](https://youtu.be/_rXzeWq4C6w?t=117) Clean version of notebook  \r\n",
      "- What does a clean version of the notebook look like?\r\n",
      "-   [02:38](https://youtu.be/_rXzeWq4C6w?t=158) Get comfortable in Paperspace Gradient  \r\n",
      "- How to work with jupyterlab mode instead of default mode? - How to swift between jupyterlab mode and jupyter notebook mode? - Learn some useful keyboard shortcuts\r\n"
     ]
    }
   ],
   "source": [
    "!head src.txt"
   ]
  },
  {
   "cell_type": "code",
   "execution_count": 24,
   "id": "d1a05aca",
   "metadata": {
    "ExecuteTime": {
     "end_time": "2022-07-05T05:51:55.450228Z",
     "start_time": "2022-07-05T05:51:55.318009Z"
    }
   },
   "outputs": [
    {
     "name": "stdout",
     "output_type": "stream",
     "text": [
      "/Users/Natsume/Documents/explore-fastai/regex-practice\r\n"
     ]
    }
   ],
   "source": [
    "!pwd"
   ]
  },
  {
   "cell_type": "code",
   "execution_count": 25,
   "id": "dd95b2bf",
   "metadata": {
    "ExecuteTime": {
     "end_time": "2022-07-05T05:51:55.656675Z",
     "start_time": "2022-07-05T05:51:55.648540Z"
    }
   },
   "outputs": [],
   "source": [
    "src_txt = Path('src.txt').read_text()"
   ]
  },
  {
   "cell_type": "code",
   "execution_count": 26,
   "id": "3b70200a",
   "metadata": {
    "ExecuteTime": {
     "end_time": "2022-07-05T05:51:56.086816Z",
     "start_time": "2022-07-05T05:51:56.080960Z"
    },
    "scrolled": true
   },
   "outputs": [
    {
     "name": "stdout",
     "output_type": "stream",
     "text": [
      "['-   [00:42', '-   [01:30', '-   [01:57', '-   [02:38', '-   [04:30', '-   [05:17', '-   [06:42', '-   [07:24', '-   [07:47', '-   [09:32', '-   [10:43', '-   [12:22', '-   [13:14', '-   [13:54', '-   [14:53', '-   [15:52', '-   [16:26', '-   [17:53', '-   [18:10', '-   [18:55', '-   [21:13', '-   [23:01', '-   [26:46', '-   [27:54', '-   [29:30', '-   [33:43', '-   [37:08', '-   [37:32', '-   [38:24', '-   [39:39', '-   [41:54', '-   [43:41', '-   [44:50', '-   [45:24', '-   [46:01', '-   [48:07', '-   [54:17', '-   [55:58', '-   [58:24', '-   [1:01', '-   [1:03', '-   [1:05', '-   [1:06', '-   [1:06', '-   [1:07', '-   [1:08', '-   [1:09', '-   [1:10', '-   [1:11', '-   [1:12', '-   [1:13', '-   [1:15', '-   [1:16', '-   [1:18', '-   [1:19', '-   [1:19', '-   [1:21', '-   [1:23', '-   [1:23', '-   [1:25', '-   [1:26', '-   [1:28']\n"
     ]
    }
   ],
   "source": [
    "print(re.findall(r'\\-\\s*\\[\\d+:\\d+', src_txt))"
   ]
  },
  {
   "cell_type": "code",
   "execution_count": 27,
   "id": "2f48b33f",
   "metadata": {
    "ExecuteTime": {
     "end_time": "2022-07-05T05:51:56.443615Z",
     "start_time": "2022-07-05T05:51:56.439678Z"
    }
   },
   "outputs": [
    {
     "name": "stdout",
     "output_type": "stream",
     "text": [
      "[('-   ', '[00:42'), ('-   ', '[01:30'), ('-   ', '[01:57'), ('-   ', '[02:38'), ('-   ', '[04:30'), ('-   ', '[05:17'), ('-   ', '[06:42'), ('-   ', '[07:24'), ('-   ', '[07:47'), ('-   ', '[09:32'), ('-   ', '[10:43'), ('-   ', '[12:22'), ('-   ', '[13:14'), ('-   ', '[13:54'), ('-   ', '[14:53'), ('-   ', '[15:52'), ('-   ', '[16:26'), ('-   ', '[17:53'), ('-   ', '[18:10'), ('-   ', '[18:55'), ('-   ', '[21:13'), ('-   ', '[23:01'), ('-   ', '[26:46'), ('-   ', '[27:54'), ('-   ', '[29:30'), ('-   ', '[33:43'), ('-   ', '[37:08'), ('-   ', '[37:32'), ('-   ', '[38:24'), ('-   ', '[39:39'), ('-   ', '[41:54'), ('-   ', '[43:41'), ('-   ', '[44:50'), ('-   ', '[45:24'), ('-   ', '[46:01'), ('-   ', '[48:07'), ('-   ', '[54:17'), ('-   ', '[55:58'), ('-   ', '[58:24'), ('-   ', '[1:01'), ('-   ', '[1:03'), ('-   ', '[1:05'), ('-   ', '[1:06'), ('-   ', '[1:06'), ('-   ', '[1:07'), ('-   ', '[1:08'), ('-   ', '[1:09'), ('-   ', '[1:10'), ('-   ', '[1:11'), ('-   ', '[1:12'), ('-   ', '[1:13'), ('-   ', '[1:15'), ('-   ', '[1:16'), ('-   ', '[1:18'), ('-   ', '[1:19'), ('-   ', '[1:19'), ('-   ', '[1:21'), ('-   ', '[1:23'), ('-   ', '[1:23'), ('-   ', '[1:25'), ('-   ', '[1:26'), ('-   ', '[1:28')]\n"
     ]
    }
   ],
   "source": [
    "print(re.findall(r'(\\-\\s*)(\\[\\d+:\\d+)', src_txt))"
   ]
  },
  {
   "cell_type": "markdown",
   "id": "5add2a10",
   "metadata": {},
   "source": [
    "## production"
   ]
  },
  {
   "cell_type": "code",
   "execution_count": 2,
   "id": "18af36f2",
   "metadata": {
    "ExecuteTime": {
     "end_time": "2022-07-07T03:30:43.500227Z",
     "start_time": "2022-07-07T03:30:37.838847Z"
    }
   },
   "outputs": [],
   "source": [
    "from fastcore.utils import *\n",
    "import gradio as gr"
   ]
  },
  {
   "cell_type": "code",
   "execution_count": 3,
   "id": "beb2957c",
   "metadata": {
    "ExecuteTime": {
     "end_time": "2022-07-07T03:30:43.544712Z",
     "start_time": "2022-07-07T03:30:43.531762Z"
    },
    "scrolled": false
   },
   "outputs": [
    {
     "name": "stdout",
     "output_type": "stream",
     "text": [
      "\n",
      "#### [03:51](https://youtu.be/dg8fR9qUz18?t=231) What will part 2 feel like? a lot deeper technically? Able to read and implement research papers? Models involve real life situations?\n",
      "\n",
      "#### [04:46](https://youtu.be/dg8fR9qUz18?t=286) Review build a neuralnet from scratch. How Pytorch create a neuralnet effortlessly? How Pytorch keep track of model weights through `Module`? How does `Module` store weights with `nn.Parameter`? How to check weights from the model using `parameters()`?\n",
      "\n",
      "\n",
      "[details='Images']![module-parameter|690x284](upload://oyEmyFJW2lsgctzP5IwfMLk4g54.png)\n",
      "\n",
      "[/details]\n",
      "\n",
      "#### You can build a layer in Module with `nn.Linear` without `nn.Parameter` and Pytorch can read weights from it too. \n",
      "\n",
      "\n",
      "[details='Images']![module-layer|690x252](upload://dTKIj6xZTnNFQNF8hi7ZGDZLpWb.png)\n",
      "\n",
      "[/details]\n",
      "\n",
      "#### [07:42](https://youtu.be/htiNBPxcXgo?t=462) How to create the `Embedding` function and the entire `DotProductBias` with pytorch using `create_params` from scratch? After it's trained, the trained movie_bias can be checked. You can check the shape of the bias by `model.movie_bias.shape`\n",
      "\n",
      "\n",
      "[details='Images']![create-embedding|690x216](upload://pDuahr0GLiW37Y8HCVpI1QIB3xo.png)\n",
      "![DotProductBias-pytorch|690x266](upload://uiS37CTyXk9ra7PF5wKGhzAWbyv.png)\n",
      "![movie-bias-trained|690x352](upload://qvlfDGOQXH1oFI7rKADZlW01O0p.jpeg)\n",
      "\n",
      "\n",
      "[/details]\n",
      "\n",
      "#### [11:29](https://youtu.be/htiNBPxcXgo?t=689)  questions: What does `Tensor.normal_` do? \n",
      "![[Tensor.Normal_.png|900]]\n",
      "![why-no-zeros|690x74](upload://41yIHu6ML61lyOYxG89Np8HfU7g.png)\n",
      "\n",
      "\n",
      "[/details]\n",
      "\n",
      "#### [12:21](https://youtu.be/htiNBPxcXgo?t=741) After training, what can the `movie_bias` tell us about each and all the movies? What does having a low bias mean for a movie? What does having a high bias mean for a movie? Can user_bias tell us which user just loves movies even the crapy ones? This is visualizing `movie_bias`\n",
      "\n",
      "\n",
      "[details='Images']![interpreting-bias|690x329](upload://87xA7gm9hoJJhdmkYqul8hcoTLx.png)\n",
      "\n",
      "[/details]\n",
      "\n",
      "#### [15:53](https://youtu.be/htiNBPxcXgo?t=953) What can we interpret or do about the huge matrix with shape `(num_users, 50)`? How to shrink the 50 latent factors into just 3 most important factors with `pca`?\n",
      "\n",
      "\n",
      "[details='Images']![shrink-by-pca|690x227](upload://s0TbGzLqyo4EfNMGu1VZV6B3V78.png)\n",
      "\n",
      "[/details]\n",
      "\n",
      "#### How to interpret the PCA chart of movies rated with only just two PCA factors of out 3 compressed by 50 factors? How the taste or style of the movies are condensed into two factors and displayed and defined by the location of the two dimensional chart? This is visualizing movie_factors or embeddings.\n",
      "\n",
      "\n",
      "[details='Images']![compress-movie-taste-by-2-factors|587x500](upload://bdYgs35bDJBVhPV2Jwhf64E22OV.jpeg)\n",
      "\n",
      "\n",
      "[/details]\n",
      "\n",
      "#### [18:06](https://youtu.be/htiNBPxcXgo?t=1086) How fastai makes all the work above easier with just one line of code?\n",
      "\n",
      "\n",
      "[details='Images']![fastai-make-things-easier|559x500](upload://xRCaDruERWttTNT8wPFqVk2A08T.jpeg)\n",
      "\n",
      "[/details]\n",
      "\n",
      "#### [19:57](https://youtu.be/htiNBPxcXgo?t=1197) How fastai construct everything under the hood of `collab_learner`?\n",
      "\n",
      "\n",
      "[details='Images']![collab_learner|690x241](upload://aHimfWxGS58sOfmsXNHRvs8X5xQ.jpeg)\n",
      "![EmbeddingDotBias|690x291](upload://7O6Sb5fCUJ97zaYhfIwvkZwoNa7.png)\n",
      "\n",
      "[/details]\n",
      "\n",
      "#### [21:14](https://youtu.be/htiNBPxcXgo?t=1274) Questions: is PCA useful in other applications? Where to find more of PCA? Why should you take Rachel's Computational Linear Algebra?\n",
      "\n",
      "#### [22:11](https://youtu.be/htiNBPxcXgo?t=1331) How to use Embedding distance to find out movie similarities?\n",
      "\n",
      "\n",
      "[details='Images']![embedding-distance-similarities|690x205](upload://7CLe9U3uF3w7tPaj7hQrBxHenvd.jpeg)\n",
      "\n",
      "[/details]\n",
      "\n",
      "#### [23:47](https://youtu.be/htiNBPxcXgo?t=1427) Go to read the fastbook for boostrapping a collaborative filtering model\n",
      "\n",
      "#### [24:22](https://youtu.be/htiNBPxcXgo?t=1462) How to do collaborative filtering with deep learning instead of matrix completion with dot product above? How to apply the easist neuralnet model architecture onto this collaborative filtering case?\n",
      "\n",
      "\n",
      "[details='Images']![deep-learning-colab-filter|690x273](upload://6AT3RJhfT54QhkQDx9MktPE7tkU.jpeg)\n",
      "\n",
      "[/details]\n",
      "\n",
      "#### [26:14](https://youtu.be/htiNBPxcXgo?t=1574) How does fastai use rules of thumb to recommend the number of latent factors for users and movies? \n",
      "\n",
      "\n",
      "[details='Images']![number-latent-factors|690x154](upload://g29NjwwIXVyxqFjaNGiFTIaCIUa.png)\n",
      "\n",
      "[/details]\n",
      "\n",
      "#### How does fastai use deep learning to build collaborative filtering model in two ways?\n",
      "\n",
      "\n",
      "[details='Images']![dl-way-2|690x391](upload://7Jd3opXbAWlQ2AMCeZqvtt3I3RG.jpeg)\n",
      "\n",
      "\n",
      "[/details]\n",
      "\n",
      "#### [27:48](https://youtu.be/htiNBPxcXgo?t=1668)  Why the deep learning versions are not as good as DotProduct version? Is it because DotProduct is more tailored to the problem? How do companies combine both versions to do collaborative filtering? When you have lots of metadata, should you apply deep learning to it? How would you use metadata in the model?\n",
      "\n",
      "#### [28:49](https://youtu.be/htiNBPxcXgo?t=1729) Questions: Can a smaller number of users and movies overwhelm everybody else? e.g., a small group of anime enthusiasts watch a lot of anime movies and give super high ratings. Details of how to deal with them won't be discussed here\n",
      "\n",
      "#### [30:25](https://youtu.be/htiNBPxcXgo?t=1825) How to apply embedding matrix into NLP model through a spreadsheet demo? What's the essense of neuralnet?\n",
      "\n",
      "\n",
      "[details='Images']![embedding-nlp|561x500](upload://2kp6PKlCrEpYslxyCg1jEolZom7.jpeg)\n",
      "\n",
      "\n",
      "[/details]\n",
      "\n",
      "#### [34:56](https://youtu.be/htiNBPxcXgo?t=2096) How to apply embeddings to tabular dataset and models? How to understand `TabularModel` and `tabular_learner` source?\n",
      "\n",
      "#### [39:35](https://youtu.be/htiNBPxcXgo?t=2375) What's going on inside a neuralnet through a shop sale prediction kaggle competition and a paper published based on it?\n",
      "Entity Embeddings of Categorical variables (paper)\n",
      "\n",
      "#### [44:33](https://youtu.be/htiNBPxcXgo?t=2673) So far we have looked at what goes in as inputs and what goes out of a model as outputs. We have also looked at the middle as matrix multiplication. What are convolution (a particular kind of matrix multiplication in the middel)? How is it be very useful to CV? Why MNIST is one of the most famous CV dataset? How does Jeremy apply what Fergus and Zeiler's paper onto MNIST using excel and convolution? \n",
      "\n",
      "#### [49:22](https://youtu.be/htiNBPxcXgo?t=2962) How to understand convolution? What does a filter do and How does it help to detect horizontal and vertical edges? How to determine the size of the filter or kernel (3x3, or 5x5, or any)? conv1 means the first convolutional layer\n",
      "\n",
      "#### [54:48](https://youtu.be/htiNBPxcXgo?t=3288) moving onto the second convolutional layer. Two filters give us two channels on the first convolutional layer. On the second convolutional layer, we create one 3D matrix filter which has two matrix filters to filter/process the two channels out of the first conv layer,  and condense the value. And we can also create a second channle for the 2nd conv layer using another 3D filter.\n",
      "\n",
      "#### [57:07](https://youtu.be/htiNBPxcXgo?t=3427) How to determine the output and use SGD to train the model and optimize the filters? \n",
      "\n",
      "#### [58:00](https://youtu.be/htiNBPxcXgo?t=3480) What is maxpooling? What's the problem of maxpooling? How much data do we lose? Why it is a good thing? What is a dense layer and what does it do? \n",
      "\n",
      "#### [1:00:48](https://youtu.be/htiNBPxcXgo?t=3648) How we do convolution slightly differently today? What is stride-two convolution and how does it work? (no more maxpooling) Then we do a lot of stride-two convolutions until the size shrinked to 7x7 and then do a average_pooling (no more dense layer). What does the 7x7 grid and take an average mean? What is the problem of such approach? When is the good time to use maxpool instead? How fastai made it easy for us to try both pooling by inventing a technique called concat_pooling to maxpool and average_pool and concat them together?  \n",
      "\n",
      "#### [1:05:12](https://youtu.be/htiNBPxcXgo?t=3912) How to understand convolution in terms of matrix multiplications?\n",
      "\n",
      "#### [1:08:21](https://youtu.be/htiNBPxcXgo?t=4101) What is dropout and how to understand it using excel? What is droput mask? What's its effect visually on excel? How to understand dropout as data augmentation for the activations? How does it help avoid overfitting? What's the story of dropout and academia? \n",
      "\n",
      "#### [1:14:27](https://youtu.be/htiNBPxcXgo?t=4467) Why Jeremy not spend much time on activation functions? We have seen many functions on metrics, loss and activations.\n",
      "\n",
      "#### [1:16:27](https://youtu.be/htiNBPxcXgo?t=4587) What to do next before fastai part2? What Radek's book meta learning is about? What are the things to do in Write, Help, Gather and Build?\n",
      "\n",
      "#### [1:19:42](https://youtu.be/htiNBPxcXgo?t=4782) a fastai community member published mish activation used by many state of art models.\n",
      "\n",
      "#### [1:20:41](https://youtu.be/htiNBPxcXgo?t=4841) Jeremy AMA: \n",
      "#### How to keep up? To keep up by focusing in subfield of deep learning and focusing on things that don't change much as the foundations of fastai have not changed much from 5 years ago. Everything else is just tweaks.\n",
      "\n",
      "#### Will huge dataset and GPU computation replace us with small dataset and one gpu? There is always smarter ways of doing things, eg. Fastai team trained on imagenet on standard GPU faster than all companies with huge amount of GPUs. Pick areas of different domains which smaller models can beat the state of the art. \n",
      "\n",
      "#### [1:26:24](https://youtu.be/htiNBPxcXgo?t=5184) How Jeremy to teach kids math? all kids can learn algebra with dragonbox5+. Great, Jeremy promised to talk more about teaching kids some point later. \n",
      "\n",
      "#### [1:28:30](https://youtu.be/htiNBPxcXgo?t=5310) Plans for walkthrus\n",
      "\n",
      "#### [1:30:00](https://youtu.be/htiNBPxcXgo?t=5400) How to turn a model into business? Great news, Jeremy plans to build a course on this! What is the start of a business? What is the first step? How to gradually figure out whether your idea has a real need from people?\n",
      "\n",
      "#### [1:32:50](https://youtu.be/htiNBPxcXgo?t=5570) How Jeremy stay so efficient at working? Finish something nicely, tenacity\n",
      "\n",
      "\n"
     ]
    }
   ],
   "source": [
    "# copy and paste post into src.txt\n",
    "src_txt = Path('src.txt').read_text()\n",
    "def add_heading(x):\n",
    "    return f'#### {x.group(2)}'\n",
    "\n",
    "res = re.sub(r'(\\-\\s*)(\\[\\d+:\\d+)', add_heading, src_txt)\n",
    "print(res)\n"
   ]
  },
  {
   "cell_type": "code",
   "execution_count": 25,
   "id": "78c6cb3e",
   "metadata": {
    "ExecuteTime": {
     "end_time": "2022-07-05T05:51:55.656675Z",
     "start_time": "2022-07-05T05:51:55.648540Z"
    }
   },
   "outputs": [],
   "source": []
  },
  {
   "cell_type": "code",
   "execution_count": null,
   "id": "ba91ce90",
   "metadata": {},
   "outputs": [],
   "source": []
  },
  {
   "cell_type": "code",
   "execution_count": null,
   "id": "f41c7eb5",
   "metadata": {},
   "outputs": [],
   "source": []
  }
 ],
 "metadata": {
  "kernelspec": {
   "display_name": "Python 3 (ipykernel)",
   "language": "python",
   "name": "python3"
  },
  "language_info": {
   "codemirror_mode": {
    "name": "ipython",
    "version": 3
   },
   "file_extension": ".py",
   "mimetype": "text/x-python",
   "name": "python",
   "nbconvert_exporter": "python",
   "pygments_lexer": "ipython3",
   "version": "3.9.10"
  },
  "toc": {
   "base_numbering": 1,
   "nav_menu": {},
   "number_sections": true,
   "sideBar": true,
   "skip_h1_title": false,
   "title_cell": "Table of Contents",
   "title_sidebar": "Contents",
   "toc_cell": true,
   "toc_position": {},
   "toc_section_display": true,
   "toc_window_display": true
  },
  "varInspector": {
   "cols": {
    "lenName": 16,
    "lenType": 16,
    "lenVar": 40
   },
   "kernels_config": {
    "python": {
     "delete_cmd_postfix": "",
     "delete_cmd_prefix": "del ",
     "library": "var_list.py",
     "varRefreshCmd": "print(var_dic_list())"
    },
    "r": {
     "delete_cmd_postfix": ") ",
     "delete_cmd_prefix": "rm(",
     "library": "var_list.r",
     "varRefreshCmd": "cat(var_dic_list()) "
    }
   },
   "types_to_exclude": [
    "module",
    "function",
    "builtin_function_or_method",
    "instance",
    "_Feature"
   ],
   "window_display": false
  }
 },
 "nbformat": 4,
 "nbformat_minor": 5
}
