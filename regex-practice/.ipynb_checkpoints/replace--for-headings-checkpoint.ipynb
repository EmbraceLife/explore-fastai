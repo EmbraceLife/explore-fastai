{
 "cells": [
  {
   "cell_type": "markdown",
   "id": "d16b52d2",
   "metadata": {
    "toc": true
   },
   "source": [
    "<h1>Table of Contents<span class=\"tocSkip\"></span></h1>\n",
    "<div class=\"toc\"><ul class=\"toc-item\"><li><span><a href=\"#reference-code\" data-toc-modified-id=\"reference-code-1\"><span class=\"toc-item-num\">1&nbsp;&nbsp;</span>reference code</a></span></li><li><span><a href=\"#Experiment\" data-toc-modified-id=\"Experiment-2\"><span class=\"toc-item-num\">2&nbsp;&nbsp;</span>Experiment</a></span></li><li><span><a href=\"#production\" data-toc-modified-id=\"production-3\"><span class=\"toc-item-num\">3&nbsp;&nbsp;</span>production</a></span></li></ul></div>"
   ]
  },
  {
   "cell_type": "code",
   "execution_count": 1,
   "id": "18af36f2",
   "metadata": {
    "ExecuteTime": {
     "end_time": "2022-07-05T05:44:28.306611Z",
     "start_time": "2022-07-05T05:44:23.041576Z"
    }
   },
   "outputs": [],
   "source": [
    "from fastcore.utils import *\n",
    "import gradio as gr"
   ]
  },
  {
   "cell_type": "markdown",
   "id": "8ec65de3",
   "metadata": {
    "heading_collapsed": true
   },
   "source": [
    "## reference code"
   ]
  },
  {
   "cell_type": "code",
   "execution_count": 2,
   "id": "a731678f",
   "metadata": {
    "ExecuteTime": {
     "end_time": "2022-07-04T23:49:10.217846Z",
     "start_time": "2022-07-04T23:49:10.212181Z"
    },
    "hidden": true
   },
   "outputs": [],
   "source": [
    "def fix_imgs(src, dst):\n",
    "    found = {n:(s,f) for n,s,f in\n",
    "             re.findall(r'!\\[(\\S+)\\|(\\S+)\\]\\((\\S+)\\)', src)}\n",
    "\n",
    "    def repl_img(x):\n",
    "        res = found.get(x.group(1))\n",
    "        if res:\n",
    "            sz,nm = res\n",
    "            return f'![{x.group(1)}|{sz}]({nm})'\n",
    "        else: return f'MISSING IMAGE: {x.group(1)}'\n",
    "    \n",
    "    result = re.sub(r'!\\[\\[([^.]+)\\.\\w+(\\|\\d+)?\\]\\]', repl_img, dst)\n",
    "    return result"
   ]
  },
  {
   "cell_type": "code",
   "execution_count": 3,
   "id": "608a8562",
   "metadata": {
    "ExecuteTime": {
     "end_time": "2022-07-04T23:49:10.267444Z",
     "start_time": "2022-07-04T23:49:10.259757Z"
    },
    "hidden": true
   },
   "outputs": [],
   "source": [
    "def fix_imgs_with_hide(src, dst):\n",
    "    if dst != \"\":\n",
    "        result_no_hide = fix_imgs(src, dst)\n",
    "    else:\n",
    "        result_no_hide = src\n",
    "    \n",
    "    def add_hide_top_func(x):\n",
    "        add_hide_top = \"\"\"\\n\\n[details='Images']\\n\\n\"\"\"\n",
    "        return     f'{x.group(1)}{add_hide_top}{x.group(2)}'\n",
    "\n",
    "    result_top_hide = re.sub(r'([\\.|\\?|\\w|\\`][\\s]*)([\\n]*!\\[[^|]+\\|\\S+\\]\\(\\S+\\))', add_hide_top_func, result_no_hide)\n",
    "\n",
    "    def add_hide_bottom_func(x):\n",
    "        add_hide_bottom = \"\"\"[/details]\\n\\n\"\"\"\n",
    "        return     f'{x.group(1)}{add_hide_bottom}{x.group(2)}'\n",
    "\n",
    "    return re.sub(r'(!\\[[^|]+\\|\\S+\\]\\(\\S+\\)[\\n]+)(\\w|#)', add_hide_bottom_func, result_top_hide)"
   ]
  },
  {
   "cell_type": "markdown",
   "id": "5af11cd3",
   "metadata": {
    "heading_collapsed": true
   },
   "source": [
    "## Experiment"
   ]
  },
  {
   "cell_type": "markdown",
   "id": "f5790e5b",
   "metadata": {
    "ExecuteTime": {
     "end_time": "2022-07-05T05:37:53.088210Z",
     "start_time": "2022-07-05T05:37:53.074142Z"
    },
    "hidden": true
   },
   "source": [
    "!cat > regex-practice/src.txt and ctrl + d to save"
   ]
  },
  {
   "cell_type": "code",
   "execution_count": 23,
   "id": "a1289422",
   "metadata": {
    "ExecuteTime": {
     "end_time": "2022-07-05T05:51:53.542124Z",
     "start_time": "2022-07-05T05:51:53.403681Z"
    },
    "hidden": true
   },
   "outputs": [
    {
     "name": "stdout",
     "output_type": "stream",
     "text": [
      "-   Lecture 5  \r\n",
      "Build a tabular model from scratch [forum](https://forums.fast.ai/t/lesson-5-official-topic/96491)\r\n",
      "-   00:00 Tabular model from scratch\r\n",
      "-   [00:42](https://youtu.be/_rXzeWq4C6w?t=42) Review Titanic dataset and the two models in excel\r\n",
      "-   [01:30](https://youtu.be/_rXzeWq4C6w?t=90) From excel to python\r\n",
      "-   **Linear model and neuralnet from scratch**\r\n",
      "-   [01:57](https://youtu.be/_rXzeWq4C6w?t=117) Clean version of notebook  \r\n",
      "- What does a clean version of the notebook look like?\r\n",
      "-   [02:38](https://youtu.be/_rXzeWq4C6w?t=158) Get comfortable in Paperspace Gradient  \r\n",
      "- How to work with jupyterlab mode instead of default mode? - How to swift between jupyterlab mode and jupyter notebook mode? - Learn some useful keyboard shortcuts\r\n"
     ]
    }
   ],
   "source": [
    "!head src.txt"
   ]
  },
  {
   "cell_type": "code",
   "execution_count": 24,
   "id": "d1a05aca",
   "metadata": {
    "ExecuteTime": {
     "end_time": "2022-07-05T05:51:55.450228Z",
     "start_time": "2022-07-05T05:51:55.318009Z"
    },
    "hidden": true
   },
   "outputs": [
    {
     "name": "stdout",
     "output_type": "stream",
     "text": [
      "/Users/Natsume/Documents/explore-fastai/regex-practice\r\n"
     ]
    }
   ],
   "source": [
    "!pwd"
   ]
  },
  {
   "cell_type": "code",
   "execution_count": 25,
   "id": "dd95b2bf",
   "metadata": {
    "ExecuteTime": {
     "end_time": "2022-07-05T05:51:55.656675Z",
     "start_time": "2022-07-05T05:51:55.648540Z"
    },
    "hidden": true
   },
   "outputs": [],
   "source": [
    "src_txt = Path('src.txt').read_text()"
   ]
  },
  {
   "cell_type": "code",
   "execution_count": 26,
   "id": "3b70200a",
   "metadata": {
    "ExecuteTime": {
     "end_time": "2022-07-05T05:51:56.086816Z",
     "start_time": "2022-07-05T05:51:56.080960Z"
    },
    "hidden": true,
    "scrolled": true
   },
   "outputs": [
    {
     "name": "stdout",
     "output_type": "stream",
     "text": [
      "['-   [00:42', '-   [01:30', '-   [01:57', '-   [02:38', '-   [04:30', '-   [05:17', '-   [06:42', '-   [07:24', '-   [07:47', '-   [09:32', '-   [10:43', '-   [12:22', '-   [13:14', '-   [13:54', '-   [14:53', '-   [15:52', '-   [16:26', '-   [17:53', '-   [18:10', '-   [18:55', '-   [21:13', '-   [23:01', '-   [26:46', '-   [27:54', '-   [29:30', '-   [33:43', '-   [37:08', '-   [37:32', '-   [38:24', '-   [39:39', '-   [41:54', '-   [43:41', '-   [44:50', '-   [45:24', '-   [46:01', '-   [48:07', '-   [54:17', '-   [55:58', '-   [58:24', '-   [1:01', '-   [1:03', '-   [1:05', '-   [1:06', '-   [1:06', '-   [1:07', '-   [1:08', '-   [1:09', '-   [1:10', '-   [1:11', '-   [1:12', '-   [1:13', '-   [1:15', '-   [1:16', '-   [1:18', '-   [1:19', '-   [1:19', '-   [1:21', '-   [1:23', '-   [1:23', '-   [1:25', '-   [1:26', '-   [1:28']\n"
     ]
    }
   ],
   "source": [
    "print(re.findall(r'\\-\\s*\\[\\d+:\\d+', src_txt))"
   ]
  },
  {
   "cell_type": "code",
   "execution_count": 27,
   "id": "2f48b33f",
   "metadata": {
    "ExecuteTime": {
     "end_time": "2022-07-05T05:51:56.443615Z",
     "start_time": "2022-07-05T05:51:56.439678Z"
    },
    "hidden": true
   },
   "outputs": [
    {
     "name": "stdout",
     "output_type": "stream",
     "text": [
      "[('-   ', '[00:42'), ('-   ', '[01:30'), ('-   ', '[01:57'), ('-   ', '[02:38'), ('-   ', '[04:30'), ('-   ', '[05:17'), ('-   ', '[06:42'), ('-   ', '[07:24'), ('-   ', '[07:47'), ('-   ', '[09:32'), ('-   ', '[10:43'), ('-   ', '[12:22'), ('-   ', '[13:14'), ('-   ', '[13:54'), ('-   ', '[14:53'), ('-   ', '[15:52'), ('-   ', '[16:26'), ('-   ', '[17:53'), ('-   ', '[18:10'), ('-   ', '[18:55'), ('-   ', '[21:13'), ('-   ', '[23:01'), ('-   ', '[26:46'), ('-   ', '[27:54'), ('-   ', '[29:30'), ('-   ', '[33:43'), ('-   ', '[37:08'), ('-   ', '[37:32'), ('-   ', '[38:24'), ('-   ', '[39:39'), ('-   ', '[41:54'), ('-   ', '[43:41'), ('-   ', '[44:50'), ('-   ', '[45:24'), ('-   ', '[46:01'), ('-   ', '[48:07'), ('-   ', '[54:17'), ('-   ', '[55:58'), ('-   ', '[58:24'), ('-   ', '[1:01'), ('-   ', '[1:03'), ('-   ', '[1:05'), ('-   ', '[1:06'), ('-   ', '[1:06'), ('-   ', '[1:07'), ('-   ', '[1:08'), ('-   ', '[1:09'), ('-   ', '[1:10'), ('-   ', '[1:11'), ('-   ', '[1:12'), ('-   ', '[1:13'), ('-   ', '[1:15'), ('-   ', '[1:16'), ('-   ', '[1:18'), ('-   ', '[1:19'), ('-   ', '[1:19'), ('-   ', '[1:21'), ('-   ', '[1:23'), ('-   ', '[1:23'), ('-   ', '[1:25'), ('-   ', '[1:26'), ('-   ', '[1:28')]\n"
     ]
    }
   ],
   "source": [
    "print(re.findall(r'(\\-\\s*)(\\[\\d+:\\d+)', src_txt))"
   ]
  },
  {
   "cell_type": "markdown",
   "id": "5add2a10",
   "metadata": {},
   "source": [
    "## production"
   ]
  },
  {
   "cell_type": "code",
   "execution_count": 32,
   "id": "beb2957c",
   "metadata": {
    "ExecuteTime": {
     "end_time": "2022-07-05T06:39:20.108808Z",
     "start_time": "2022-07-05T06:39:20.099491Z"
    },
    "scrolled": false
   },
   "outputs": [
    {
     "name": "stdout",
     "output_type": "stream",
     "text": [
      "\n",
      "[forum thread](https://forums.fast.ai/t/walk-thru-5/96733)\n",
      "\n",
      "#### Issue of not seeing `/notebooks/` with jupyter lab\n",
      "#### [00:00](https://youtu.be/gdsa2VawOeM?t=0) An issue of not able to see `notebooks/`. What does it mean by `not able to see notebooks/`? we are not entering the jupyter lab with `/notebooks/` directory\n",
      "#### [01:53](https://youtu.be/gdsa2VawOeM?t=113) let's see the issue in real time by creating a new notebook/machine with the previous `pre-run.sh` we have.\n",
      "#### [25:45](https://youtu.be/gdsa2VawOeM?t=1545) Now we can see the terminal of this new notebook/machine ![[no-pushd-issue.png]] \n",
      "- Does the issue prevent us accessing `/storage/` or `/notebooks/`? No, you can access you from what we see above in Jeremy's notebook\n",
      "- So what exactly is the problem of the issue? The problem is that even though we can access `/notebooks/` directory but we can't open it with Jupyter lab, and the jupyter lab is stuck with home directory?\n",
      "#### [45:51](https://youtu.be/gdsa2VawOeM?t=2751) After the above issue is dealt with `pushd ~; popd;` in `pre-run.sh`, when we open a new notebook or restart a notebook, jupyter lab open on `/notebooks/` directory and terminal start at `notebooks/` directory\n",
      "- Why do we want jupyter lab to open `notebooks/` and terminal at `notebooks/`? #question \n",
      "\n",
      "\n",
      "#### vim\n",
      "- What is vim? What it is for? Why we need to learn it?\n",
      "-   What are key bindings?\n",
      "-   How to access the keyboard shortcuts (or key bindings) of fastai forum? `?`\n",
      "-   Are key bindings consistent in different programs?\n",
      "-   How to move up and down in a thread of the forum? `j or k`\n",
      "-   How to edit a reply or a post? `e`\n",
      "-   How to select all and copy? `cmd a` and then `cmd c`\n",
      "-   Are these keyboard shortcuts are very similar to vim?\n",
      "#### [05:57](https://youtu.be/gdsa2VawOeM?t=357) How to install vim? `brew install vim` \n",
      "-   Can we use vim in paperspace? Is it preinstalled there?\n",
      "-   How to install vim in Linux? `sudo apt install vim`\n",
      "-   How to start vim? `vim`\n",
      "-   How to get into edit mode of vim? `i` [09:15](https://youtu.be/gdsa2VawOeM?t=555)\n",
      "-   What is the default mode? command mode\n",
      "-   How do we know we are in the edit mode? see \"insert\" at the bottom\n",
      "-   How to go back to command mode? `esc` and see \"insert\" gone\n",
      "-   How to move up and down in edit mode? arrow keys\n",
      "-   How to move up and down in command mode? arrow keys or `j or k`\n",
      "-   How to move left and right in command mode? `h or l`\n",
      "-   How to open a file with vim? `vim filename` [10:53](https://youtu.be/gdsa2VawOeM?t=653)\n",
      "-   How to add comment to the first line of code? enter edit mode and hit enter to move it down a line, and do the editing with other keys learned above\n",
      "-   How to undo? in command mode, press `u`\n",
      "-   How to open a new line below the current line where the cursor is? `o`\n",
      "-   How to open a new line above the current line where the cursor is? `shift + o`\n",
      "-   How to run command in vim? in command mode type `:` for writing commands at bottom\n",
      "-   How to save a file? `:w`\n",
      "-   How to save into a new file with a different name? `:w aNewName`\n",
      "-   How to exit vim? `:q`\n",
      "-   How to combine commands like save and quit? `:wq`\n",
      "-   How to turn lower to upper case from left to right? in command mode press `~`\n",
      "-   How to do `~` command 10 times? in command mode press `10~`\n",
      "-   How to delete the current line? `dd`\n",
      "-   How to delete 5 lines from cursor and below? `5dd`\n",
      "-   How to go to the bottom of the file? `shift + g`\n",
      "-   How to delete a region from cursor to the end of the file? `d + shift + g` [15:53](https://youtu.be/gdsa2VawOeM?t=953)\n",
      "-   How to go to the the start of the file? `gg`\n",
      "-   How to delete from cursor to the start of the file? `dgg`\n",
      "-   How to go to the start and the end of a paragraph? `{` and `}`\n",
      "-   How to copy a paragraph below the cursor? put cursor at the line above the paragraph by `{`, and then press `y}` and `p`\n",
      "-   How to move right and left by word? `w` or `b`\n",
      "-   How to delete and edit on a word? command mode, cursor at the start of a word, `cw` to delete this word and enter edit mode\n",
      "-   How to delete the remaining of the paragraph and the paragraph below? `2d}`\n",
      "#### [19:32](https://youtu.be/gdsa2VawOeM?t=1172) How to copy from forum and paste in vim? `e; cmd + a; cmd + c; cmd + v;` enter vim `cmd + v; gg`\n",
      "-   After you delete a line (or any action) and you want to it again, what to do? `.`\n",
      "-   How to delete 5 words from the cursor? `5dw`\n",
      "-   How to search the next digit at the start of a line in vim? `/^\\d`\n",
      "-   How to start to search? `/`\n",
      "-   How to search the start of a line? `/^`\n",
      "-   How to search the start of a line which is a digit? `/^\\d`\n",
      "-   How to search again with the same search command? `n`\n",
      "-   How to delete the lines from the cursor to the next line start with digits? `d/^\\d`\n",
      "-   How to do the same action again? `.`\n",
      "#### [22:17](https://youtu.be/gdsa2VawOeM?t=1337) How to make an `ex` command and apply to all lines? `:%`\n",
      "-   How to make a grep search command on all lines? `:%g/`\n",
      "-   How to search each line for a `-` at the start of a line? `:%g/^-/`\n",
      "-   How to search all the lines for a `-` at the start of each line and delete them? `:%g/^-/d`\n",
      "-   How to search all the lines with one or more empty spaces with the end of the line and delete them? `:%g/^\\s*$/d`\n",
      "-   How to do search and replace to the whole file? `:%s/`\n",
      "-   How to do search the first empty space and replace with a space, `-` and another space to the whole file? `:%s/ / - /`\n",
      "-   How to search all lines and find those start with a space and a `-` and delete them? `:%g/^\\s\\-/d`\n",
      "#### [24:33](https://youtu.be/gdsa2VawOeM?t=1473) Why vim is so crucial to all data scientists? Can everything done above be automated by a macro in vim?\n",
      "-   How to quit without saving changes? `:q!`\n",
      "\n",
      "#### using vim `:sp` to split screen for different files\n",
      "- How would Jeremy view two files at the same time? How to split vim vertically to view two files at the same time? while we are inside `vim pre-run.sh`, we can do  `:sp /run.sh` to also view and edit `run.sh` in a splitted view\n",
      "-   How to move to different panels with vim? `ctrl + w` twice (only `cmd + w` will close tab in chrome for mac)\n",
      "\n",
      "#### Put terminal programs in background with `ctrl + z`\n",
      "#### [25:54](https://youtu.be/gdsa2VawOeM?t=1554) <mark style=\"background: #D2B3FFA6;\">Why we don't see anything in home directory and nor can we go to</mark> `notebooks/` or `storage/`? because according to `run.sh` (this file is [actually readable](https://youtu.be/gdsa2VawOeM?t=1662) to me after I finished walkthru 6), the `pre-run.sh` file is executed when it is in the root or home directory, not in `notebooks/`; and after `pre-run.sh` is executed, jupyter lab is run immediately which is in the same directory where `pre-run.sh` leave us with. (Once you are inside home directory with jupyter lab, you can't access `/notebooks/` nor `/storage/` but only home directory. This is how I understand it so far #question )\n",
      "- What does `ctrl + z` do? it stops the program which is currently running and put it in the background [26:35](https://youtu.be/gdsa2VawOeM?t=1595)\n",
      "- How to check what is running in the background? `jobs`\n",
      "- When you are ready to get back to work on the program in the background, can you call it into the foreground? yes with `fg`\n",
      "- Can you open multiple programs or `vim fileNames` and put them all in the background? yes and you can see them with `jobs` and use `fg 1` and `fg 2` to access each of them\n",
      "\n",
      "\n",
      "#### Why use `pushd ~ ; popd;` in `pre-run.sh` script\n",
      "#### [28:45](https://youtu.be/gdsa2VawOeM?t=1725) What is the solution to the file disappearing problem? by remembering the starting directory which is always `/notebooks/` and go back to it at the end of the execution of `pre-run.sh`\n",
      "-   ```pre-run.sh 4th edition\n",
      "\t#!/usr/bin/env bash\n",
      "\tpushd ~\n",
      "\trm -rf .local\n",
      "\tln -s /storage/cfg/.local\n",
      "\trm -rf .ssh\n",
      "\tln -s /storage/cfg/.ssh\n",
      "\tpopd\n",
      "\n",
      "#### [32:29](https://youtu.be/gdsa2VawOeM?t=1949) Can vscode work with paperspace remotely? absolutely\n",
      "\n",
      "- How to learn vim? one bite at a time; get the attitude right and hear Jeremy's story; don't install any plugins to waste time; and type `vimtutor` to get a tutorial on vim\n",
      "\n",
      "- How to delete a character at the cursor? `x`\n",
      "\n",
      "- Radek's resources of learning vim: vim tutor in terminal, [Practical Vim: Edit Text at the Speed of Thought](https://www.amazon.com/Practical-Vim-Edit-Speed-Thought/dp/1680501275),\n",
      "\n",
      "- Where is Jeremy's configuration files? fastai [dotfiles](https://github.com/fastai/dotfiles)\n",
      "\n",
      "#### [41:42](https://youtu.be/gdsa2VawOeM?t=2502) How does Jeremy customize its vim environment? Jeremy explained his `.vimrc` file \n",
      "\n",
      "#### Git clone fastai library repo the latest version\n",
      "#### [45:33](https://youtu.be/gdsa2VawOeM?t=2733) #question Where should we git clone fastai repo into? in `/notebooks/` directory as it is persistent in restarts of one machine\n",
      "\n",
      "- How to <mark style=\"background: #D2B3FFA6;\">only git clone the latest version of the repo</mark> to save time? `git clone git@github.com/fastai/fastai.git --depth 1`\n",
      "\n",
      "#### Install `mamba` and `ctags`\n",
      "#### [47:41](https://youtu.be/gdsa2VawOeM?t=2861) How to explore the entire fastai library repo? we can do it in github, vscode and vim\n",
      "\n",
      "- What is ctags? How does it work to explore the entire repo?\n",
      "\n",
      "#### [50:05](https://youtu.be/gdsa2VawOeM?t=3005) <mark style=\"background: #D2B3FFA6;\">How to instal</mark> l `mamba` with `conda` in <mark style=\"background: #D2B3FFA6;\">paperspace</mark> ? `conda install -c defaults -c conda-forge mamba`\n",
      "\n",
      "- How to <mark style=\"background: #D2B3FFA6;\">install ctag with mamba</mark> ? `mamba install -c conda-forge universal-ctags` as currently paperspace is not using `mamba-forge` by default #question when will paperspace start to use `mamba-forge` and `python3.9` instead of `python3.7` by default\n",
      "\n",
      "#### How to use ctags for source code\n",
      "#### [53:24](https://youtu.be/gdsa2VawOeM?t=3204) Where and how are we going to use ctags? go to the folder where the files you want to explore stored and type `ctags`\n",
      "\n",
      "- How to index the current folder where the files are stored? `/notebooks/fastai/fastai/ ctags -R .` and use `ls` to check the `ctag` file created inside the current folder (`git status` does not see it, maybe because of `.gitignore`?, need to check #question)\n",
      "\n",
      "- What is inside the `ctag` file? [54:19](https://youtu.be/gdsa2VawOeM?t=3259)\n",
      "\n",
      "- How to search a function such as `ArrayMask` using ctags from terminal? `ctags -t ArrayMask`\n",
      "\n",
      "- How to search the above function within a python file? `vim filename` to open the file, `:tj ArrayMask`\n",
      "\n",
      "- How to jump from a particular class where the cursor is at to the class definition? `ctrl + ]`\n",
      "\n",
      "- How to go back to the previous tag? `ctrl + t`\n",
      "\n",
      "- How to create a ctag config file to ignore the backup file? #question\n",
      "\n",
      "- How to split the tag to view the current function where the cursor is at and the function definition you are searching for? `:stag FunctionName`\n",
      "\n",
      "- What is the [checkpoint.py](http://checkpoint.py/) file? [56:02](https://youtu.be/gdsa2VawOeM?t=3362)\n",
      "\n",
      "## Search within\n",
      "```query\n",
      "file:(walk 5) line:\"ctag\"\n",
      "```\n"
     ]
    }
   ],
   "source": [
    "# copy and paste post into src.txt\n",
    "src_txt = Path('src.txt').read_text()\n",
    "def add_heading(x):\n",
    "    return f'#### {x.group(2)}'\n",
    "\n",
    "res = re.sub(r'(\\-\\s*)(\\[\\d+:\\d+)', add_heading, src_txt)\n",
    "print(res)\n"
   ]
  },
  {
   "cell_type": "code",
   "execution_count": 25,
   "id": "78c6cb3e",
   "metadata": {
    "ExecuteTime": {
     "end_time": "2022-07-05T05:51:55.656675Z",
     "start_time": "2022-07-05T05:51:55.648540Z"
    }
   },
   "outputs": [],
   "source": []
  },
  {
   "cell_type": "code",
   "execution_count": null,
   "id": "ba91ce90",
   "metadata": {},
   "outputs": [],
   "source": []
  },
  {
   "cell_type": "code",
   "execution_count": null,
   "id": "f41c7eb5",
   "metadata": {},
   "outputs": [],
   "source": []
  }
 ],
 "metadata": {
  "kernelspec": {
   "display_name": "Python 3 (ipykernel)",
   "language": "python",
   "name": "python3"
  },
  "language_info": {
   "codemirror_mode": {
    "name": "ipython",
    "version": 3
   },
   "file_extension": ".py",
   "mimetype": "text/x-python",
   "name": "python",
   "nbconvert_exporter": "python",
   "pygments_lexer": "ipython3",
   "version": "3.9.10"
  },
  "toc": {
   "base_numbering": 1,
   "nav_menu": {},
   "number_sections": true,
   "sideBar": true,
   "skip_h1_title": false,
   "title_cell": "Table of Contents",
   "title_sidebar": "Contents",
   "toc_cell": true,
   "toc_position": {},
   "toc_section_display": true,
   "toc_window_display": true
  },
  "varInspector": {
   "cols": {
    "lenName": 16,
    "lenType": 16,
    "lenVar": 40
   },
   "kernels_config": {
    "python": {
     "delete_cmd_postfix": "",
     "delete_cmd_prefix": "del ",
     "library": "var_list.py",
     "varRefreshCmd": "print(var_dic_list())"
    },
    "r": {
     "delete_cmd_postfix": ") ",
     "delete_cmd_prefix": "rm(",
     "library": "var_list.r",
     "varRefreshCmd": "cat(var_dic_list()) "
    }
   },
   "types_to_exclude": [
    "module",
    "function",
    "builtin_function_or_method",
    "instance",
    "_Feature"
   ],
   "window_display": false
  }
 },
 "nbformat": 4,
 "nbformat_minor": 5
}
