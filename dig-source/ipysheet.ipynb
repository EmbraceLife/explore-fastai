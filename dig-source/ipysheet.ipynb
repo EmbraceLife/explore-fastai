{
 "cells": [
  {
   "cell_type": "markdown",
   "metadata": {
    "toc": true
   },
   "source": [
    "<h1>Table of Contents<span class=\"tocSkip\"></span></h1>\n",
    "<div class=\"toc\"><ul class=\"toc-item\"><li><span><a href=\"#Spreadsheet-widget-for-the-Jupyter-Notebook\" data-toc-modified-id=\"Spreadsheet-widget-for-the-Jupyter-Notebook-1\"><span class=\"toc-item-num\">1&nbsp;&nbsp;</span>Spreadsheet widget for the Jupyter Notebook</a></span><ul class=\"toc-item\"><li><span><a href=\"#Installation\" data-toc-modified-id=\"Installation-1.1\"><span class=\"toc-item-num\">1.1&nbsp;&nbsp;</span>Installation</a></span></li></ul></li><li><span><a href=\"#Getting-started\" data-toc-modified-id=\"Getting-started-2\"><span class=\"toc-item-num\">2&nbsp;&nbsp;</span>Getting started</a></span></li><li><span><a href=\"#Events\" data-toc-modified-id=\"Events-3\"><span class=\"toc-item-num\">3&nbsp;&nbsp;</span>Events</a></span></li><li><span><a href=\"#Cell-ranges\" data-toc-modified-id=\"Cell-ranges-4\"><span class=\"toc-item-num\">4&nbsp;&nbsp;</span>Cell ranges</a></span><ul class=\"toc-item\"><li><span><a href=\"#Calculations\" data-toc-modified-id=\"Calculations-4.1\"><span class=\"toc-item-num\">4.1&nbsp;&nbsp;</span>Calculations</a></span></li></ul></li><li><span><a href=\"#Renderers\" data-toc-modified-id=\"Renderers-5\"><span class=\"toc-item-num\">5&nbsp;&nbsp;</span>Renderers</a></span></li><li><span><a href=\"#Plot\" data-toc-modified-id=\"Plot-6\"><span class=\"toc-item-num\">6&nbsp;&nbsp;</span>Plot</a></span></li><li><span><a href=\"#Numpy-back-and-forth\" data-toc-modified-id=\"Numpy-back-and-forth-7\"><span class=\"toc-item-num\">7&nbsp;&nbsp;</span>Numpy back and forth</a></span></li><li><span><a href=\"#pandas-back-and-forth\" data-toc-modified-id=\"pandas-back-and-forth-8\"><span class=\"toc-item-num\">8&nbsp;&nbsp;</span>pandas back and forth</a></span></li><li><span><a href=\"#Cell-widget\" data-toc-modified-id=\"Cell-widget-9\"><span class=\"toc-item-num\">9&nbsp;&nbsp;</span>Cell widget</a></span></li><li><span><a href=\"#format\" data-toc-modified-id=\"format-10\"><span class=\"toc-item-num\">10&nbsp;&nbsp;</span>format</a></span></li></ul></div>"
   ]
  },
  {
   "cell_type": "markdown",
   "metadata": {},
   "source": [
    "# Spreadsheet widget for the Jupyter Notebook\n",
    "## Installation\n",
    "\n",
    "With conda:\n",
    "\n",
    "```\n",
    "$ conda install -c conda-forge ipysheet\n",
    "```\n",
    "\n",
    "With pip:\n",
    "\n",
    "```\n",
    "$ pip install ipysheet\n",
    "```\n",
    "\n",
    "To make it work for Jupyter lab:\n",
    "```\n",
    "$ jupyter labextension install ipysheet\n",
    "```\n",
    "\n",
    "If you have notebook 5.2 or below, you also need to execute:\n",
    "```\n",
    "$ jupyter nbextension enable --py --sys-prefix ipysheet\n",
    "```"
   ]
  },
  {
   "cell_type": "markdown",
   "metadata": {},
   "source": [
    "# Getting started\n",
    "Although ipysheet contains an object oriented interface, we recomment using the \"state machine\" based interface, similar to matplotlib's pyplot/pylab interface. Comparible to matplotlib pylab interface, this interface keeps track of the current sheet. Using the [cell](api.rst#ipysheet.easy.cell) function, [Cell](api.rst#ipysheet.sheet.Cell) widgets are added to the current sheet.\n",
    "\n",
    "Importing ipysheet and invoking the [sheet](api.rst#ipysheet.easy.sheet) function will create the default spreadsheet widget. The function returns a [Sheet](api.rst#ipysheet.sheet.Sheet) instance, leaving that expression as a last statement of a code cell will display it, otherwise use `display(sheet)`.\n",
    "\n",
    "Note that this documentation is a Jupyter notebook, and you can try it out directly on Binder:\n",
    "[![Binder](https://mybinder.org/badge.svg)](https://mybinder.org/v2/gh/QuantStack/ipysheet/master?filepath=docs%2Fsource%2Findex.ipynb)"
   ]
  },
  {
   "cell_type": "code",
   "execution_count": 1,
   "metadata": {
    "ExecuteTime": {
     "end_time": "2022-07-17T10:10:35.058987Z",
     "start_time": "2022-07-17T10:10:34.921667Z"
    },
    "scrolled": true
   },
   "outputs": [
    {
     "data": {
      "application/vnd.jupyter.widget-view+json": {
       "model_id": "f40d0fc3a3554ace8998aeb7774fa465",
       "version_major": 2,
       "version_minor": 0
      },
      "text/plain": [
       "Sheet(columns=5, layout=Layout(height='auto', width='auto'), rows=5)"
      ]
     },
     "metadata": {},
     "output_type": "display_data"
    }
   ],
   "source": [
    "import ipysheet\n",
    "sheet = ipysheet.sheet()\n",
    "sheet"
   ]
  },
  {
   "cell_type": "markdown",
   "metadata": {},
   "source": [
    "Using the [cell](api.rst#ipysheet.easy.cell) function, we can create [Cell](api.rst#ipysheet.sheet.Cell) widgets that are directly added to the current sheet."
   ]
  },
  {
   "cell_type": "code",
   "execution_count": 8,
   "metadata": {
    "ExecuteTime": {
     "end_time": "2022-07-17T10:17:35.383274Z",
     "start_time": "2022-07-17T10:17:35.356673Z"
    }
   },
   "outputs": [
    {
     "data": {
      "application/vnd.jupyter.widget-view+json": {
       "model_id": "e408de441c0847dd852a1581c404a939",
       "version_major": 2,
       "version_minor": 0
      },
      "text/plain": [
       "Sheet(cells=(Cell(column_end=0, column_start=0, row_end=0, row_start=0, type='text', value='Hello'), Cell(colu…"
      ]
     },
     "metadata": {},
     "output_type": "display_data"
    }
   ],
   "source": [
    "sheet = ipysheet.sheet(rows=3, columns=40, column_width=1) # change column_width\n",
    "cell1 = ipysheet.cell(0, 0, 'Hello')\n",
    "cell2 = ipysheet.cell(2, 0, 'World')\n",
    "cell_value = ipysheet.cell(2,2, 42.)\n",
    "sheet"
   ]
  },
  {
   "cell_type": "code",
   "execution_count": 47,
   "metadata": {
    "ExecuteTime": {
     "end_time": "2022-07-17T09:01:09.791308Z",
     "start_time": "2022-07-17T09:01:09.783853Z"
    }
   },
   "outputs": [
    {
     "data": {
      "text/plain": [
       "Cell(column_end=0, column_start=0, row_end=0, row_start=0, type='text', value='hellow')"
      ]
     },
     "metadata": {},
     "output_type": "display_data"
    }
   ],
   "source": [
    "cell1"
   ]
  },
  {
   "cell_type": "markdown",
   "metadata": {},
   "source": [
    "# Events\n",
    "Using link or observe we can link widgets together, or attach event handlers"
   ]
  },
  {
   "cell_type": "markdown",
   "metadata": {
    "raw_mimetype": "text/html"
   },
   "source": [
    "\n",
    "<div class=\"alert alert-warning\">\n",
    "\n",
    "**Note:** The examples below contain event handler written in Python that needs a running kernel, they will not work in the pure html documentation. They do work in binder!\n",
    "\n",
    "</div>\n"
   ]
  },
  {
   "cell_type": "code",
   "execution_count": 25,
   "metadata": {
    "ExecuteTime": {
     "end_time": "2022-07-17T13:45:45.466862Z",
     "start_time": "2022-07-17T13:45:45.333790Z"
    },
    "scrolled": false
   },
   "outputs": [
    {
     "data": {
      "application/vnd.jupyter.widget-view+json": {
       "model_id": "6715760eca4d409784feca80ff9384b6",
       "version_major": 2,
       "version_minor": 0
      },
      "text/plain": [
       "VBox(children=(Sheet(cells=(Cell(column_end=1, column_start=1, row_end=0, row_start=0, type='numeric', value=1…"
      ]
     },
     "metadata": {},
     "output_type": "display_data"
    }
   ],
   "source": [
    "import ipywidgets as widgets\n",
    "sheet = ipysheet.sheet(rows=3, columns=2, column_headers=False, row_headers=False)\n",
    "cell_a = ipysheet.cell(0, 1, 1, label_left='a') # add label to cell\n",
    "cell_b = ipysheet.cell(1, 1, 2, label_left='b', numeric_format='0.00') # default numeric_format is '0.000'\n",
    "cell_sum = ipysheet.cell(2, 1, 3, label_left='sum', read_only=True)\n",
    "\n",
    "# create a slider linked to cell a\n",
    "slider = widgets.FloatSlider(min=-10, max=10, description='a')\n",
    "widgets.jslink((cell_a, 'value'), (slider, 'value'))\n",
    "\n",
    "# changes in a or b should trigger this function\n",
    "def calculate(change):\n",
    "    cell_sum.value = cell_a.value + cell_b.value\n",
    "\n",
    "cell_a.observe(calculate, 'value') # if cell_a.value changes, run calculate function \n",
    "cell_b.observe(calculate, 'value')\n",
    "\n",
    "\n",
    "widgets.VBox([sheet, slider]) # sheet and slider can be splitted into separated cells in jupyter"
   ]
  },
  {
   "cell_type": "markdown",
   "metadata": {},
   "source": [
    "# Cell ranges\n",
    "Instead of referring to a single cell, we can also refer to cell ranges, rows and columns."
   ]
  },
  {
   "cell_type": "code",
   "execution_count": 24,
   "metadata": {
    "ExecuteTime": {
     "end_time": "2022-07-17T10:33:52.438438Z",
     "start_time": "2022-07-17T10:33:52.405435Z"
    }
   },
   "outputs": [
    {
     "data": {
      "application/vnd.jupyter.widget-view+json": {
       "model_id": "be2242a739184855b5c32220d636695d",
       "version_major": 2,
       "version_minor": 0
      },
      "text/plain": [
       "Sheet(cells=(Cell(column_end=3, column_start=0, row_end=0, row_start=0, squeeze_column=False, style={'backgrou…"
      ]
     },
     "metadata": {},
     "output_type": "display_data"
    }
   ],
   "source": [
    "sheet = ipysheet.sheet(rows=10, columns=10)\n",
    "row = ipysheet.row(0, [0, 1, 2, 3], background_color=\"red\")\n",
    "column = ipysheet.column(1, [\"a\", \"b\", \"c\", \"d\"], row_start=1, background_color=\"green\")\n",
    "cells = ipysheet.cell_range([[\"hi\", \"ola\"], [\"ciao\", \"bonjour\"], [\"hallo\", \"guten tag\"]],\n",
    "                            row_start=2, column_start=2, background_color=\"yellow\")\n",
    "sheet\n"
   ]
  },
  {
   "cell_type": "markdown",
   "metadata": {},
   "source": [
    "## Calculations\n",
    "Since this is such a common pattern, a helper decorator [calculation](api.rst#ipysheet.easy.calculation) is provided, shortening the above code considerably."
   ]
  },
  {
   "cell_type": "code",
   "execution_count": 7,
   "metadata": {
    "ExecuteTime": {
     "end_time": "2022-07-17T08:37:50.410666Z",
     "start_time": "2022-07-17T08:37:50.329706Z"
    }
   },
   "outputs": [
    {
     "data": {
      "application/vnd.jupyter.widget-view+json": {
       "model_id": "d27d29ab561946f384adba2f9b5bd0c6",
       "version_major": 2,
       "version_minor": 0
      },
      "text/plain": [
       "VBox(children=(Sheet(cells=(Cell(column_end=1, column_start=1, row_end=0, row_start=0, type='numeric', value=1…"
      ]
     },
     "metadata": {},
     "output_type": "display_data"
    }
   ],
   "source": [
    "import ipywidgets as widgets\n",
    "sheet = ipysheet.sheet(rows=3, columns=2, column_headers=False, row_headers=False)\n",
    "cell_a = ipysheet.cell(0, 1, 1, label_left='a')\n",
    "cell_b = ipysheet.cell(1, 1, 2, label_left='b')\n",
    "cell_sum = ipysheet.cell(2, 1, 3, label_left='sum', read_only=True)\n",
    "\n",
    "# create a slider linked to cell a\n",
    "slider = widgets.FloatSlider(min=-10, max=10, description='a')\n",
    "widgets.jslink((cell_a, 'value'), (slider, 'value'))\n",
    "\n",
    "@ipysheet.calculation(inputs=[cell_a, cell_b], output=cell_sum)\n",
    "def calculate(a, b):\n",
    "    return a + b\n",
    "\n",
    "widgets.VBox([sheet, slider])"
   ]
  },
  {
   "cell_type": "markdown",
   "metadata": {},
   "source": [
    "# Renderers\n",
    "ipysheet is build on Handsontable, which allows [custom renderers](https://docs.handsontable.com/demo-custom-renderers.html), which we also support."
   ]
  },
  {
   "cell_type": "code",
   "execution_count": 8,
   "metadata": {
    "ExecuteTime": {
     "end_time": "2022-07-17T08:39:32.696637Z",
     "start_time": "2022-07-17T08:39:32.689813Z"
    }
   },
   "outputs": [],
   "source": [
    "jscode_renderer_negative = \"\"\"function (value) {\n",
    "  return {\n",
    "    backgroundColor: value < 0 ?  'red' : 'green'\n",
    "  };\n",
    "}\n",
    "\"\"\"\n",
    "ipysheet.renderer(code=jscode_renderer_negative, name='negative');"
   ]
  },
  {
   "cell_type": "code",
   "execution_count": 9,
   "metadata": {
    "ExecuteTime": {
     "end_time": "2022-07-17T08:39:33.087714Z",
     "start_time": "2022-07-17T08:39:33.067113Z"
    }
   },
   "outputs": [
    {
     "data": {
      "application/vnd.jupyter.widget-view+json": {
       "model_id": "5e18023c66d44181a9805a9d9760168f",
       "version_major": 2,
       "version_minor": 0
      },
      "text/plain": [
       "Sheet(cells=(Cell(column_end=3, column_start=0, renderer='negative', row_end=2, row_start=0, squeeze_column=Fa…"
      ]
     },
     "metadata": {},
     "output_type": "display_data"
    }
   ],
   "source": [
    "import random\n",
    "s = ipysheet.sheet(rows=3, columns=4)\n",
    "data = [[random.randint(-10, 10) for j in range(4)] for j in range(3)]\n",
    "ipysheet.cell_range(data, renderer='negative')\n",
    "s"
   ]
  },
  {
   "cell_type": "markdown",
   "metadata": {},
   "source": [
    "If [flexx](http://flexx.readthedocs.io/en/stable/pyscript/index.html) is installed, Python code can be transpiled to JavaScript at runtime."
   ]
  },
  {
   "cell_type": "code",
   "execution_count": 10,
   "metadata": {
    "ExecuteTime": {
     "end_time": "2022-07-17T08:40:26.086023Z",
     "start_time": "2022-07-17T08:40:26.056174Z"
    }
   },
   "outputs": [],
   "source": [
    "def renderer_negative(value):\n",
    "    return {\n",
    "        'backgroundColor': 'orange' if value < 0 else ''\n",
    "    }\n",
    "ipysheet.renderer(code=renderer_negative, name='negative_transpiled');"
   ]
  },
  {
   "cell_type": "code",
   "execution_count": 11,
   "metadata": {
    "ExecuteTime": {
     "end_time": "2022-07-17T08:40:27.123722Z",
     "start_time": "2022-07-17T08:40:27.099373Z"
    }
   },
   "outputs": [
    {
     "data": {
      "application/vnd.jupyter.widget-view+json": {
       "model_id": "4d6cdec3d4ce4787bc2642b82c815881",
       "version_major": 2,
       "version_minor": 0
      },
      "text/plain": [
       "Sheet(cells=(Cell(column_end=3, column_start=0, renderer='negative_transpiled', row_end=2, row_start=0, squeez…"
      ]
     },
     "metadata": {},
     "output_type": "display_data"
    }
   ],
   "source": [
    "import random\n",
    "s = ipysheet.sheet(rows=3, columns=4)\n",
    "data = [[random.randint(-10, 10) for j in range(4)] for j in range(3)]\n",
    "ipysheet.cell_range(data, renderer='negative_transpiled')\n",
    "s"
   ]
  },
  {
   "cell_type": "markdown",
   "metadata": {
    "nbsphinx-toctree": {}
   },
   "source": [
    "[api](api.rst)"
   ]
  },
  {
   "cell_type": "markdown",
   "metadata": {},
   "source": [
    "# Plot "
   ]
  },
  {
   "cell_type": "code",
   "execution_count": 14,
   "metadata": {
    "ExecuteTime": {
     "end_time": "2022-07-17T08:43:43.068416Z",
     "start_time": "2022-07-17T08:43:41.922605Z"
    },
    "scrolled": true
   },
   "outputs": [],
   "source": [
    "import numpy as np\n",
    "from traitlets import link\n",
    "from ipywidgets import HBox\n",
    "import bqplot.pyplot as plt\n",
    "from ipysheet import sheet, cell, column"
   ]
  },
  {
   "cell_type": "code",
   "execution_count": 15,
   "metadata": {
    "ExecuteTime": {
     "end_time": "2022-07-17T08:43:53.995770Z",
     "start_time": "2022-07-17T08:43:53.982278Z"
    }
   },
   "outputs": [],
   "source": [
    "size = 18\n",
    "scale = 100.\n",
    "np.random.seed(0)\n",
    "x_data = np.arange(size)\n",
    "y_data = np.cumsum(np.random.randn(size)  * scale)"
   ]
  },
  {
   "cell_type": "code",
   "execution_count": 17,
   "metadata": {
    "ExecuteTime": {
     "end_time": "2022-07-17T08:44:36.652147Z",
     "start_time": "2022-07-17T08:44:36.602693Z"
    }
   },
   "outputs": [],
   "source": [
    "fig = plt.figure()\n",
    "axes_options = {'x': {'label': 'Date', 'tick_format': '%m/%d'},\n",
    "                'y': {'label': 'Price', 'tick_format': '0.0f'}}\n",
    "\n",
    "scatt = plt.scatter(x_data, y_data, colors=['red'], stroke='black')\n",
    "fig.layout.width = '70%'"
   ]
  },
  {
   "cell_type": "code",
   "execution_count": 18,
   "metadata": {
    "ExecuteTime": {
     "end_time": "2022-07-17T08:44:46.968525Z",
     "start_time": "2022-07-17T08:44:46.957156Z"
    }
   },
   "outputs": [
    {
     "data": {
      "application/vnd.jupyter.widget-view+json": {
       "model_id": "cf95b7a4898a46db8c34249fe384b002",
       "version_major": 2,
       "version_minor": 0
      },
      "text/plain": [
       "Figure(axes=[Axis(scale=LinearScale()), Axis(orientation='vertical', scale=LinearScale())], fig_margin={'top':…"
      ]
     },
     "metadata": {},
     "output_type": "display_data"
    }
   ],
   "source": [
    "fig"
   ]
  },
  {
   "cell_type": "code",
   "execution_count": 19,
   "metadata": {
    "ExecuteTime": {
     "end_time": "2022-07-17T08:45:18.143307Z",
     "start_time": "2022-07-17T08:45:18.128346Z"
    }
   },
   "outputs": [],
   "source": [
    "sheet1 = sheet(rows=size, columns=2)\n",
    "x_column = column(0, x_data)\n",
    "y_column = column(1, y_data)"
   ]
  },
  {
   "cell_type": "code",
   "execution_count": 22,
   "metadata": {
    "ExecuteTime": {
     "end_time": "2022-07-17T08:45:57.771072Z",
     "start_time": "2022-07-17T08:45:57.751460Z"
    }
   },
   "outputs": [
    {
     "data": {
      "application/vnd.jupyter.widget-view+json": {
       "model_id": "b41853952eac4aae996fe84342834e00",
       "version_major": 2,
       "version_minor": 0
      },
      "text/plain": [
       "HBox(children=(Figure(axes=[Axis(scale=LinearScale()), Axis(orientation='vertical', scale=LinearScale())], fig…"
      ]
     },
     "metadata": {},
     "output_type": "display_data"
    }
   ],
   "source": [
    "link((scatt, 'x'), (x_column, 'value'))\n",
    "link((scatt, 'y'), (y_column, 'value'))\n",
    "\n",
    "HBox((fig, sheet1))"
   ]
  },
  {
   "cell_type": "markdown",
   "metadata": {},
   "source": [
    "# Numpy back and forth "
   ]
  },
  {
   "cell_type": "code",
   "execution_count": 24,
   "metadata": {
    "ExecuteTime": {
     "end_time": "2022-07-17T08:47:53.616407Z",
     "start_time": "2022-07-17T08:47:53.597597Z"
    }
   },
   "outputs": [
    {
     "data": {
      "application/vnd.jupyter.widget-view+json": {
       "model_id": "fd566ffb38a34da3bd43f6803ba3c433",
       "version_major": 2,
       "version_minor": 0
      },
      "text/plain": [
       "Sheet(cells=(Cell(column_end=9, column_start=0, row_end=5, row_start=0, squeeze_column=False, squeeze_row=Fals…"
      ]
     },
     "metadata": {},
     "output_type": "display_data"
    }
   ],
   "source": [
    "import numpy as np\n",
    "from ipysheet import from_array, to_array\n",
    "\n",
    "arr = np.random.randn(6, 10)\n",
    "\n",
    "sheet = from_array(arr)\n",
    "sheet\n"
   ]
  },
  {
   "cell_type": "code",
   "execution_count": 25,
   "metadata": {
    "ExecuteTime": {
     "end_time": "2022-07-17T08:48:12.576283Z",
     "start_time": "2022-07-17T08:48:12.559875Z"
    }
   },
   "outputs": [
    {
     "data": {
      "application/vnd.jupyter.widget-view+json": {
       "model_id": "1e8103722c23457090b06dd823a8b9ac",
       "version_major": 2,
       "version_minor": 0
      },
      "text/plain": [
       "Sheet(cells=(Cell(column_end=0, column_start=0, numeric_format=None, row_end=2, row_start=0, squeeze_row=False…"
      ]
     },
     "metadata": {},
     "output_type": "display_data"
    }
   ],
   "source": [
    "arr = np.array([True, False, True])\n",
    "\n",
    "sheet = from_array(arr)\n",
    "sheet"
   ]
  },
  {
   "cell_type": "code",
   "execution_count": 26,
   "metadata": {
    "ExecuteTime": {
     "end_time": "2022-07-17T08:48:45.624549Z",
     "start_time": "2022-07-17T08:48:45.612212Z"
    }
   },
   "outputs": [
    {
     "data": {
      "text/plain": [
       "array([[ True],\n",
       "       [False],\n",
       "       [ True]])"
      ]
     },
     "execution_count": 26,
     "metadata": {},
     "output_type": "execute_result"
    }
   ],
   "source": [
    "to_array(sheet)"
   ]
  },
  {
   "cell_type": "markdown",
   "metadata": {},
   "source": [
    "# pandas back and forth "
   ]
  },
  {
   "cell_type": "code",
   "execution_count": 27,
   "metadata": {
    "ExecuteTime": {
     "end_time": "2022-07-17T08:49:19.698208Z",
     "start_time": "2022-07-17T08:49:19.574634Z"
    }
   },
   "outputs": [
    {
     "data": {
      "application/vnd.jupyter.widget-view+json": {
       "model_id": "8994041cb5374bfc953cc12ec01dddf7",
       "version_major": 2,
       "version_minor": 0
      },
      "text/plain": [
       "Sheet(cells=(Cell(column_end=0, column_start=0, row_end=5, row_start=0, squeeze_row=False, type='numeric', val…"
      ]
     },
     "metadata": {},
     "output_type": "display_data"
    }
   ],
   "source": [
    "import numpy as np\n",
    "import pandas as pd\n",
    "from ipysheet import from_dataframe, to_dataframe\n",
    "\n",
    "dates = pd.date_range('20130101', periods=6)\n",
    "df = pd.DataFrame(np.random.randn(6, 26), index=dates, columns=list(chr(ord('A') + i) for i in range(26)))\n",
    "\n",
    "sheet = from_dataframe(df)\n",
    "sheet"
   ]
  },
  {
   "cell_type": "code",
   "execution_count": 28,
   "metadata": {
    "ExecuteTime": {
     "end_time": "2022-07-17T08:50:50.958764Z",
     "start_time": "2022-07-17T08:50:50.887176Z"
    }
   },
   "outputs": [
    {
     "data": {
      "application/vnd.jupyter.widget-view+json": {
       "model_id": "68c5e64eb925420da977783717ae21e1",
       "version_major": 2,
       "version_minor": 0
      },
      "text/plain": [
       "Sheet(cells=(Cell(column_end=0, column_start=0, row_start=0, squeeze_row=False, type='numeric', value=[1.0, 1.…"
      ]
     },
     "metadata": {},
     "output_type": "display_data"
    }
   ],
   "source": [
    "df2 = pd.DataFrame({'A': 1.,\n",
    "                    'B': pd.Timestamp('20130102'),\n",
    "                    'C': pd.Series(1, index=list(range(4)), dtype='float32'),\n",
    "                    'D': np.array([False, True, False, False], dtype='bool'),\n",
    "                    'E': pd.Categorical([\"test\", \"train\", \"test\", \"train\"]),\n",
    "                    'F': 'foo'})\n",
    "\n",
    "df2.loc[[0, 2], ['B']] = np.nan\n",
    "\n",
    "sheet2 = from_dataframe(df2)\n",
    "sheet2"
   ]
  },
  {
   "cell_type": "code",
   "execution_count": 29,
   "metadata": {
    "ExecuteTime": {
     "end_time": "2022-07-17T08:51:54.711879Z",
     "start_time": "2022-07-17T08:51:54.691910Z"
    }
   },
   "outputs": [
    {
     "data": {
      "text/html": [
       "<div>\n",
       "<style scoped>\n",
       "    .dataframe tbody tr th:only-of-type {\n",
       "        vertical-align: middle;\n",
       "    }\n",
       "\n",
       "    .dataframe tbody tr th {\n",
       "        vertical-align: top;\n",
       "    }\n",
       "\n",
       "    .dataframe thead th {\n",
       "        text-align: right;\n",
       "    }\n",
       "</style>\n",
       "<table border=\"1\" class=\"dataframe\">\n",
       "  <thead>\n",
       "    <tr style=\"text-align: right;\">\n",
       "      <th></th>\n",
       "      <th>A</th>\n",
       "      <th>B</th>\n",
       "      <th>C</th>\n",
       "      <th>D</th>\n",
       "      <th>E</th>\n",
       "      <th>F</th>\n",
       "    </tr>\n",
       "  </thead>\n",
       "  <tbody>\n",
       "    <tr>\n",
       "      <th>0</th>\n",
       "      <td>1.0</td>\n",
       "      <td>NaT</td>\n",
       "      <td>1.0</td>\n",
       "      <td>False</td>\n",
       "      <td>test</td>\n",
       "      <td>foo</td>\n",
       "    </tr>\n",
       "    <tr>\n",
       "      <th>1</th>\n",
       "      <td>1.0</td>\n",
       "      <td>2013-01-02</td>\n",
       "      <td>1.0</td>\n",
       "      <td>True</td>\n",
       "      <td>train</td>\n",
       "      <td>foo</td>\n",
       "    </tr>\n",
       "    <tr>\n",
       "      <th>2</th>\n",
       "      <td>1.0</td>\n",
       "      <td>NaT</td>\n",
       "      <td>1.0</td>\n",
       "      <td>False</td>\n",
       "      <td>test</td>\n",
       "      <td>foo</td>\n",
       "    </tr>\n",
       "    <tr>\n",
       "      <th>3</th>\n",
       "      <td>1.0</td>\n",
       "      <td>2013-01-02</td>\n",
       "      <td>1.0</td>\n",
       "      <td>False</td>\n",
       "      <td>train</td>\n",
       "      <td>foo</td>\n",
       "    </tr>\n",
       "  </tbody>\n",
       "</table>\n",
       "</div>"
      ],
      "text/plain": [
       "     A          B    C      D      E    F\n",
       "0  1.0        NaT  1.0  False   test  foo\n",
       "1  1.0 2013-01-02  1.0   True  train  foo\n",
       "2  1.0        NaT  1.0  False   test  foo\n",
       "3  1.0 2013-01-02  1.0  False  train  foo"
      ]
     },
     "execution_count": 29,
     "metadata": {},
     "output_type": "execute_result"
    }
   ],
   "source": [
    "df3 = to_dataframe(sheet2)\n",
    "df3"
   ]
  },
  {
   "cell_type": "markdown",
   "metadata": {},
   "source": [
    "# Cell widget "
   ]
  },
  {
   "cell_type": "code",
   "execution_count": 30,
   "metadata": {
    "ExecuteTime": {
     "end_time": "2022-07-17T08:53:04.634286Z",
     "start_time": "2022-07-17T08:53:04.626575Z"
    }
   },
   "outputs": [],
   "source": [
    "from ipywidgets import FloatSlider, IntSlider, Image\n",
    "import ipysheet"
   ]
  },
  {
   "cell_type": "code",
   "execution_count": 31,
   "metadata": {
    "ExecuteTime": {
     "end_time": "2022-07-17T08:53:05.203465Z",
     "start_time": "2022-07-17T08:53:05.182564Z"
    }
   },
   "outputs": [],
   "source": [
    "slider = FloatSlider()\n",
    "slider\n",
    "sheet = ipysheet.sheet()"
   ]
  },
  {
   "cell_type": "code",
   "execution_count": 32,
   "metadata": {
    "ExecuteTime": {
     "end_time": "2022-07-17T08:53:19.333562Z",
     "start_time": "2022-07-17T08:53:19.315855Z"
    }
   },
   "outputs": [],
   "source": [
    "cell1 = ipysheet.cell(0, 0, slider, style={'min-width': '150px'})\n",
    "cell3 = ipysheet.cell(2, 2, 42.)\n",
    "cell_sum = ipysheet.cell(3, 2, 42.)"
   ]
  },
  {
   "cell_type": "code",
   "execution_count": 33,
   "metadata": {
    "ExecuteTime": {
     "end_time": "2022-07-17T08:53:45.279580Z",
     "start_time": "2022-07-17T08:53:45.270385Z"
    }
   },
   "outputs": [
    {
     "data": {
      "application/vnd.jupyter.widget-view+json": {
       "model_id": "ba52cf49832546aa90c48102faedcc75",
       "version_major": 2,
       "version_minor": 0
      },
      "text/plain": [
       "Sheet(cells=(Cell(column_end=0, column_start=0, row_end=0, row_start=0, style={'min-width': '150px'}, type='wi…"
      ]
     },
     "metadata": {},
     "output_type": "display_data"
    }
   ],
   "source": [
    "@ipysheet.calculation(inputs=[(cell1, 'value'), cell3], output=cell_sum)\n",
    "def calculate(a, b):\n",
    "    return a + b\n",
    "\n",
    "sheet"
   ]
  },
  {
   "cell_type": "code",
   "execution_count": 34,
   "metadata": {
    "ExecuteTime": {
     "end_time": "2022-07-17T08:54:06.362436Z",
     "start_time": "2022-07-17T08:54:06.235358Z"
    }
   },
   "outputs": [
    {
     "data": {
      "application/vnd.jupyter.widget-view+json": {
       "model_id": "cb8bf8edd810466ea65a304c4cc43422",
       "version_major": 2,
       "version_minor": 0
      },
      "text/plain": [
       "Sheet(cells=(Cell(column_end=0, column_start=0, row_end=4, row_start=0, squeeze_row=False, type='widget', valu…"
      ]
     },
     "metadata": {},
     "output_type": "display_data"
    }
   ],
   "source": [
    "slider2 = IntSlider()\n",
    "cell1.value = slider2\n",
    "slider2\n",
    "sheet = ipysheet.sheet()\n",
    "\n",
    "column1 = ipysheet.column(0, [FloatSlider() for _ in range(5)])\n",
    "column2 = ipysheet.column(1, [1.] * 5)\n",
    "\n",
    "sheet"
   ]
  },
  {
   "cell_type": "code",
   "execution_count": 36,
   "metadata": {
    "ExecuteTime": {
     "end_time": "2022-07-17T08:54:13.597131Z",
     "start_time": "2022-07-17T08:54:13.488370Z"
    }
   },
   "outputs": [
    {
     "ename": "FileNotFoundError",
     "evalue": "[Errno 2] No such file or directory: './image.png'",
     "output_type": "error",
     "traceback": [
      "\u001b[0;31m---------------------------------------------------------------------------\u001b[0m",
      "\u001b[0;31mFileNotFoundError\u001b[0m                         Traceback (most recent call last)",
      "Input \u001b[0;32mIn [36]\u001b[0m, in \u001b[0;36m<cell line: 5>\u001b[0;34m()\u001b[0m\n\u001b[1;32m      2\u001b[0m ipysheet\u001b[38;5;241m.\u001b[39mto_dataframe(sheet)\n\u001b[1;32m      3\u001b[0m sheet \u001b[38;5;241m=\u001b[39m ipysheet\u001b[38;5;241m.\u001b[39msheet()\n\u001b[0;32m----> 5\u001b[0m column1 \u001b[38;5;241m=\u001b[39m ipysheet\u001b[38;5;241m.\u001b[39mcolumn(\u001b[38;5;241m0\u001b[39m, [Image\u001b[38;5;241m.\u001b[39mfrom_file(\u001b[38;5;124m'\u001b[39m\u001b[38;5;124m./image.png\u001b[39m\u001b[38;5;124m'\u001b[39m) \u001b[38;5;28;01mfor\u001b[39;00m _ \u001b[38;5;129;01min\u001b[39;00m \u001b[38;5;28mrange\u001b[39m(\u001b[38;5;241m5\u001b[39m)], style\u001b[38;5;241m=\u001b[39m{\u001b[38;5;124m'\u001b[39m\u001b[38;5;124mmin-width\u001b[39m\u001b[38;5;124m'\u001b[39m: \u001b[38;5;124m'\u001b[39m\u001b[38;5;124m60px\u001b[39m\u001b[38;5;124m'\u001b[39m, \u001b[38;5;124m'\u001b[39m\u001b[38;5;124mmin-height\u001b[39m\u001b[38;5;124m'\u001b[39m: \u001b[38;5;124m'\u001b[39m\u001b[38;5;124m50px\u001b[39m\u001b[38;5;124m'\u001b[39m})\n\u001b[1;32m      6\u001b[0m column2 \u001b[38;5;241m=\u001b[39m ipysheet\u001b[38;5;241m.\u001b[39mcolumn(\u001b[38;5;241m1\u001b[39m, [\u001b[38;5;241m1.\u001b[39m] \u001b[38;5;241m*\u001b[39m \u001b[38;5;241m5\u001b[39m)\n\u001b[1;32m      8\u001b[0m sheet\n",
      "Input \u001b[0;32mIn [36]\u001b[0m, in \u001b[0;36m<listcomp>\u001b[0;34m(.0)\u001b[0m\n\u001b[1;32m      2\u001b[0m ipysheet\u001b[38;5;241m.\u001b[39mto_dataframe(sheet)\n\u001b[1;32m      3\u001b[0m sheet \u001b[38;5;241m=\u001b[39m ipysheet\u001b[38;5;241m.\u001b[39msheet()\n\u001b[0;32m----> 5\u001b[0m column1 \u001b[38;5;241m=\u001b[39m ipysheet\u001b[38;5;241m.\u001b[39mcolumn(\u001b[38;5;241m0\u001b[39m, [\u001b[43mImage\u001b[49m\u001b[38;5;241;43m.\u001b[39;49m\u001b[43mfrom_file\u001b[49m\u001b[43m(\u001b[49m\u001b[38;5;124;43m'\u001b[39;49m\u001b[38;5;124;43m./image.png\u001b[39;49m\u001b[38;5;124;43m'\u001b[39;49m\u001b[43m)\u001b[49m \u001b[38;5;28;01mfor\u001b[39;00m _ \u001b[38;5;129;01min\u001b[39;00m \u001b[38;5;28mrange\u001b[39m(\u001b[38;5;241m5\u001b[39m)], style\u001b[38;5;241m=\u001b[39m{\u001b[38;5;124m'\u001b[39m\u001b[38;5;124mmin-width\u001b[39m\u001b[38;5;124m'\u001b[39m: \u001b[38;5;124m'\u001b[39m\u001b[38;5;124m60px\u001b[39m\u001b[38;5;124m'\u001b[39m, \u001b[38;5;124m'\u001b[39m\u001b[38;5;124mmin-height\u001b[39m\u001b[38;5;124m'\u001b[39m: \u001b[38;5;124m'\u001b[39m\u001b[38;5;124m50px\u001b[39m\u001b[38;5;124m'\u001b[39m})\n\u001b[1;32m      6\u001b[0m column2 \u001b[38;5;241m=\u001b[39m ipysheet\u001b[38;5;241m.\u001b[39mcolumn(\u001b[38;5;241m1\u001b[39m, [\u001b[38;5;241m1.\u001b[39m] \u001b[38;5;241m*\u001b[39m \u001b[38;5;241m5\u001b[39m)\n\u001b[1;32m      8\u001b[0m sheet\n",
      "File \u001b[0;32m~/mambaforge/lib/python3.9/site-packages/ipywidgets/widgets/widget_media.py:163\u001b[0m, in \u001b[0;36mImage.from_file\u001b[0;34m(cls, filename, **kwargs)\u001b[0m\n\u001b[1;32m    161\u001b[0m \u001b[38;5;129m@classmethod\u001b[39m\n\u001b[1;32m    162\u001b[0m \u001b[38;5;28;01mdef\u001b[39;00m \u001b[38;5;21mfrom_file\u001b[39m(\u001b[38;5;28mcls\u001b[39m, filename, \u001b[38;5;241m*\u001b[39m\u001b[38;5;241m*\u001b[39mkwargs):\n\u001b[0;32m--> 163\u001b[0m     \u001b[38;5;28;01mreturn\u001b[39;00m \u001b[38;5;28;43mcls\u001b[39;49m\u001b[38;5;241;43m.\u001b[39;49m\u001b[43m_from_file\u001b[49m\u001b[43m(\u001b[49m\u001b[38;5;124;43m'\u001b[39;49m\u001b[38;5;124;43mimage\u001b[39;49m\u001b[38;5;124;43m'\u001b[39;49m\u001b[43m,\u001b[49m\u001b[43m \u001b[49m\u001b[43mfilename\u001b[49m\u001b[43m,\u001b[49m\u001b[43m \u001b[49m\u001b[38;5;241;43m*\u001b[39;49m\u001b[38;5;241;43m*\u001b[39;49m\u001b[43mkwargs\u001b[49m\u001b[43m)\u001b[49m\n",
      "File \u001b[0;32m~/mambaforge/lib/python3.9/site-packages/ipywidgets/widgets/widget_media.py:44\u001b[0m, in \u001b[0;36m_Media._from_file\u001b[0;34m(cls, tag, filename, **kwargs)\u001b[0m\n\u001b[1;32m     29\u001b[0m \u001b[38;5;129m@classmethod\u001b[39m\n\u001b[1;32m     30\u001b[0m \u001b[38;5;28;01mdef\u001b[39;00m \u001b[38;5;21m_from_file\u001b[39m(\u001b[38;5;28mcls\u001b[39m, tag, filename, \u001b[38;5;241m*\u001b[39m\u001b[38;5;241m*\u001b[39mkwargs):\n\u001b[1;32m     31\u001b[0m     \u001b[38;5;124;03m\"\"\"\u001b[39;00m\n\u001b[1;32m     32\u001b[0m \u001b[38;5;124;03m    Create an :class:`Media` from a local file.\u001b[39;00m\n\u001b[1;32m     33\u001b[0m \n\u001b[0;32m   (...)\u001b[0m\n\u001b[1;32m     42\u001b[0m \u001b[38;5;124;03m    Returns an `Media` with the value set from the filename.\u001b[39;00m\n\u001b[1;32m     43\u001b[0m \u001b[38;5;124;03m    \"\"\"\u001b[39;00m\n\u001b[0;32m---> 44\u001b[0m     value \u001b[38;5;241m=\u001b[39m \u001b[38;5;28;43mcls\u001b[39;49m\u001b[38;5;241;43m.\u001b[39;49m\u001b[43m_load_file_value\u001b[49m\u001b[43m(\u001b[49m\u001b[43mfilename\u001b[49m\u001b[43m)\u001b[49m\n\u001b[1;32m     46\u001b[0m     \u001b[38;5;28;01mif\u001b[39;00m \u001b[38;5;124m'\u001b[39m\u001b[38;5;124mformat\u001b[39m\u001b[38;5;124m'\u001b[39m \u001b[38;5;129;01mnot\u001b[39;00m \u001b[38;5;129;01min\u001b[39;00m kwargs:\n\u001b[1;32m     47\u001b[0m         \u001b[38;5;28mformat\u001b[39m \u001b[38;5;241m=\u001b[39m \u001b[38;5;28mcls\u001b[39m\u001b[38;5;241m.\u001b[39m_guess_format(tag, filename)\n",
      "File \u001b[0;32m~/mambaforge/lib/python3.9/site-packages/ipywidgets/widgets/widget_media.py:95\u001b[0m, in \u001b[0;36m_Media._load_file_value\u001b[0;34m(cls, filename)\u001b[0m\n\u001b[1;32m     93\u001b[0m     \u001b[38;5;28;01mreturn\u001b[39;00m filename\u001b[38;5;241m.\u001b[39mread()\n\u001b[1;32m     94\u001b[0m \u001b[38;5;28;01melse\u001b[39;00m:\n\u001b[0;32m---> 95\u001b[0m     \u001b[38;5;28;01mwith\u001b[39;00m \u001b[38;5;28;43mopen\u001b[39;49m\u001b[43m(\u001b[49m\u001b[43mfilename\u001b[49m\u001b[43m,\u001b[49m\u001b[43m \u001b[49m\u001b[38;5;124;43m'\u001b[39;49m\u001b[38;5;124;43mrb\u001b[39;49m\u001b[38;5;124;43m'\u001b[39;49m\u001b[43m)\u001b[49m \u001b[38;5;28;01mas\u001b[39;00m f:\n\u001b[1;32m     96\u001b[0m         \u001b[38;5;28;01mreturn\u001b[39;00m f\u001b[38;5;241m.\u001b[39mread()\n",
      "\u001b[0;31mFileNotFoundError\u001b[0m: [Errno 2] No such file or directory: './image.png'"
     ]
    }
   ],
   "source": [
    "column1.value = column1.value[:-1] + [IntSlider()]\n",
    "ipysheet.to_dataframe(sheet)\n",
    "sheet = ipysheet.sheet()\n",
    "\n",
    "column1 = ipysheet.column(0, [Image.from_file('./image.png') for _ in range(5)], style={'min-width': '60px', 'min-height': '50px'})\n",
    "column2 = ipysheet.column(1, [1.] * 5)\n",
    "\n",
    "sheet"
   ]
  },
  {
   "cell_type": "markdown",
   "metadata": {},
   "source": [
    "# format"
   ]
  },
  {
   "cell_type": "code",
   "execution_count": 37,
   "metadata": {
    "ExecuteTime": {
     "end_time": "2022-07-17T08:55:04.895296Z",
     "start_time": "2022-07-17T08:55:04.865572Z"
    }
   },
   "outputs": [
    {
     "data": {
      "application/vnd.jupyter.widget-view+json": {
       "model_id": "4c5e031a4d9b49929c2ab597e5f33fa4",
       "version_major": 2,
       "version_minor": 0
      },
      "text/plain": [
       "Sheet(cells=(Cell(column_end=0, column_start=0, numeric_format='0.0', row_end=0, row_start=0, type='numeric', …"
      ]
     },
     "metadata": {},
     "output_type": "display_data"
    }
   ],
   "source": [
    "import ipysheet\n",
    "sheet = ipysheet.sheet()\n",
    "cell0 = ipysheet.cell(0, 0, 0, numeric_format='0.0', type='numeric')\n",
    "cell1 = ipysheet.cell(1, 0, \"Hello\", type='text')\n",
    "cell2 = ipysheet.cell(0, 1, 0.1, numeric_format='0.000', type='numeric')\n",
    "cell3 = ipysheet.cell(1, 1, 15.9, numeric_format='0.00', type='numeric')\n",
    "cell4 = ipysheet.cell(2, 2, \"02/14/2019\", date_format='MM/DD/YYYY', type='date')\n",
    "\n",
    "sheet"
   ]
  },
  {
   "cell_type": "code",
   "execution_count": null,
   "metadata": {},
   "outputs": [],
   "source": []
  }
 ],
 "metadata": {
  "celltoolbar": "Raw Cell Format",
  "kernelspec": {
   "display_name": "Python 3 (ipykernel)",
   "language": "python",
   "name": "python3"
  },
  "language_info": {
   "codemirror_mode": {
    "name": "ipython",
    "version": 3
   },
   "file_extension": ".py",
   "mimetype": "text/x-python",
   "name": "python",
   "nbconvert_exporter": "python",
   "pygments_lexer": "ipython3",
   "version": "3.9.10"
  },
  "toc": {
   "base_numbering": 1,
   "nav_menu": {},
   "number_sections": true,
   "sideBar": true,
   "skip_h1_title": false,
   "title_cell": "Table of Contents",
   "title_sidebar": "Contents",
   "toc_cell": true,
   "toc_position": {},
   "toc_section_display": true,
   "toc_window_display": true
  },
  "varInspector": {
   "cols": {
    "lenName": 16,
    "lenType": 16,
    "lenVar": 40
   },
   "kernels_config": {
    "python": {
     "delete_cmd_postfix": "",
     "delete_cmd_prefix": "del ",
     "library": "var_list.py",
     "varRefreshCmd": "print(var_dic_list())"
    },
    "r": {
     "delete_cmd_postfix": ") ",
     "delete_cmd_prefix": "rm(",
     "library": "var_list.r",
     "varRefreshCmd": "cat(var_dic_list()) "
    }
   },
   "types_to_exclude": [
    "module",
    "function",
    "builtin_function_or_method",
    "instance",
    "_Feature"
   ],
   "window_display": false
  },
  "widgets": {
   "application/vnd.jupyter.widget-state+json": {
    "state": {
     "078a93ab3a954e6e9fd0cb309683ad9a": {
      "model_module": "ipysheet",
      "model_module_version": "~0.4.1",
      "model_name": "CellRangeModel",
      "state": {
       "_view_module": null,
       "_view_module_version": "",
       "column_end": 3,
       "column_start": 0,
       "renderer": "negative_transpiled",
       "row_end": 2,
       "row_start": 0,
       "squeeze_column": false,
       "squeeze_row": false,
       "type": "numeric",
       "value": [
        [
         -4,
         -3,
         -1,
         9
        ],
        [
         -1,
         9,
         -6,
         9
        ],
        [
         -9,
         9,
         -1,
         -9
        ]
       ]
      }
     },
     "120d773208664b28a62edb6279d39e52": {
      "model_module": "ipysheet",
      "model_module_version": "~0.4.1",
      "model_name": "SheetModel",
      "state": {
       "cells": [
        "IPY_MODEL_1e98bbb1a81b414691f47a167cf7d12f"
       ],
       "layout": "IPY_MODEL_c1dbe91c4db244ceb857f8ce9401cc6a"
      }
     },
     "155748346e0a4bfbaa4a6cdd209755f5": {
      "model_module": "@jupyter-widgets/base",
      "model_module_version": "1.1.0",
      "model_name": "LayoutModel",
      "state": {
       "height": "auto",
       "width": "auto"
      }
     },
     "15f35d4e95474f348b8f364b5b7bdf01": {
      "model_module": "@jupyter-widgets/controls",
      "model_module_version": "1.4.0",
      "model_name": "VBoxModel",
      "state": {
       "children": [
        "IPY_MODEL_9ed9cb9f61294fb0b9a97848d193c1db",
        "IPY_MODEL_3a02c16fe28c4f269b15eea3914114b6"
       ],
       "layout": "IPY_MODEL_418d6f810c4c49e18b5310d205dba504"
      }
     },
     "1e98bbb1a81b414691f47a167cf7d12f": {
      "model_module": "ipysheet",
      "model_module_version": "~0.4.1",
      "model_name": "CellRangeModel",
      "state": {
       "_view_module": null,
       "_view_module_version": "",
       "column_end": 3,
       "column_start": 0,
       "renderer": "negative",
       "row_end": 2,
       "row_start": 0,
       "squeeze_column": false,
       "squeeze_row": false,
       "type": "numeric",
       "value": [
        [
         10,
         3,
         1,
         9
        ],
        [
         -5,
         7,
         -3,
         7
        ],
        [
         1,
         10,
         -3,
         1
        ]
       ]
      }
     },
     "1f92a18646e94c68b9424fdbc6bff1f4": {
      "model_module": "@jupyter-widgets/base",
      "model_module_version": "1.1.0",
      "model_name": "LayoutModel",
      "state": {
       "height": "auto",
       "width": "auto"
      }
     },
     "260d446590784781b0ea1079242ee098": {
      "model_module": "ipysheet",
      "model_module_version": "~0.4.1",
      "model_name": "RendererModel",
      "state": {
       "_view_module": "ipysheet",
       "_view_module_version": "~0.4.1",
       "code": "\nfunction() {\n                  var the_renderer;\n                the_renderer = function flx_the_renderer (value) {\n                    return ({backgroundColor: ((value < 0))? (\"orange\") : (\"\")});\n                };\n\n  return the_renderer\n\n}()\n",
       "name": "negative_transpiled"
      }
     },
     "2733376ab7f14d4dbe107138963c2214": {
      "model_module": "@jupyter-widgets/base",
      "model_module_version": "1.1.0",
      "model_name": "LayoutModel",
      "state": {
       "height": "auto",
       "width": "auto"
      }
     },
     "2ae00660ce774f22ab24da60c086fc0e": {
      "model_module": "ipysheet",
      "model_module_version": "~0.4.1",
      "model_name": "CellRangeModel",
      "state": {
       "_view_module": null,
       "_view_module_version": "",
       "read_only": true,
       "row_end": 2,
       "row_start": 2,
       "type": "numeric",
       "value": 3
      }
     },
     "2c4fa222b61a4d518c6a40c92b040f11": {
      "model_module": "@jupyter-widgets/controls",
      "model_module_version": "1.4.0",
      "model_name": "FloatSliderModel",
      "state": {
       "description": "a",
       "layout": "IPY_MODEL_d91e09a8701e4888a34550824908ab8c",
       "max": 10,
       "min": -10,
       "step": 0.1,
       "style": "IPY_MODEL_714d355de86d4881b34fb804fe770008",
       "value": 1
      }
     },
     "331eb1d230d04a2b9cf22ff0e7d34221": {
      "model_module": "ipysheet",
      "model_module_version": "~0.4.1",
      "model_name": "SheetModel",
      "state": {
       "cells": [
        "IPY_MODEL_69590c5315e34d6e884458c4ed1271ec",
        "IPY_MODEL_e93dd6c4fb4240478c3cbb535bf3d478",
        "IPY_MODEL_a8546559d0c544af840ac5212b3fe9fd"
       ],
       "layout": "IPY_MODEL_41c13784e4714966adcb8ae3d44178db",
       "rows": 5
      }
     },
     "3a02c16fe28c4f269b15eea3914114b6": {
      "model_module": "@jupyter-widgets/controls",
      "model_module_version": "1.4.0",
      "model_name": "FloatSliderModel",
      "state": {
       "description": "a",
       "layout": "IPY_MODEL_7a9609f5eb3d444485201b9424cc45eb",
       "max": 10,
       "min": -10,
       "step": 0.1,
       "style": "IPY_MODEL_3f8af119d77d4a508b090398dff5a8fd",
       "value": 1
      }
     },
     "3f8af119d77d4a508b090398dff5a8fd": {
      "model_module": "@jupyter-widgets/controls",
      "model_module_version": "1.4.0",
      "model_name": "SliderStyleModel",
      "state": {
       "description_width": ""
      }
     },
     "402e691da01e4dd2af5ef3f97e91d0a5": {
      "model_module": "ipysheet",
      "model_module_version": "~0.4.1",
      "model_name": "RendererModel",
      "state": {
       "_view_module": "ipysheet",
       "_view_module_version": "~0.4.1",
       "code": "function (value) {\n  return {\n    backgroundColor: value < 0 ?  'red' : 'green'\n  };\n}\n",
       "name": "negative"
      }
     },
     "418d6f810c4c49e18b5310d205dba504": {
      "model_module": "@jupyter-widgets/base",
      "model_module_version": "1.1.0",
      "model_name": "LayoutModel",
      "state": {}
     },
     "41c13784e4714966adcb8ae3d44178db": {
      "model_module": "@jupyter-widgets/base",
      "model_module_version": "1.1.0",
      "model_name": "LayoutModel",
      "state": {
       "height": "auto",
       "width": "auto"
      }
     },
     "43172e8bacd645bca0c4289ea6de15f4": {
      "model_module": "@jupyter-widgets/base",
      "model_module_version": "1.1.0",
      "model_name": "LayoutModel",
      "state": {
       "height": "auto",
       "width": "auto"
      }
     },
     "535bb3899bcf426389df0a9ed97c4e3d": {
      "model_module": "ipysheet",
      "model_module_version": "~0.4.1",
      "model_name": "CellRangeModel",
      "state": {
       "_view_module": null,
       "_view_module_version": "",
       "type": "numeric",
       "value": 2
      }
     },
     "593c55e36b1e449fba9193764c1b00ce": {
      "model_module": "ipysheet",
      "model_module_version": "~0.4.1",
      "model_name": "SheetModel",
      "state": {
       "cells": [
        "IPY_MODEL_b1fde7c30c954ad8b0198bc66b28a121",
        "IPY_MODEL_aa085b146c2241c0929ced4f8d0b8cc3",
        "IPY_MODEL_8a9a9bdb7f104943b53b06d9943c3a45",
        "IPY_MODEL_ba0c6a1a21624d82aa23f75afdc7666c",
        "IPY_MODEL_2ae00660ce774f22ab24da60c086fc0e",
        "IPY_MODEL_90541fb1218742e4bcacfe67b9ee4180"
       ],
       "column_headers": false,
       "columns": 2,
       "layout": "IPY_MODEL_43172e8bacd645bca0c4289ea6de15f4",
       "row_headers": false
      }
     },
     "6476661bcf82408dbc65f220605068dc": {
      "model_module": "ipysheet",
      "model_module_version": "~0.4.1",
      "model_name": "CellRangeModel",
      "state": {
       "_view_module": null,
       "_view_module_version": "",
       "read_only": true,
       "row_end": 2,
       "row_start": 2,
       "type": "numeric",
       "value": 3
      }
     },
     "69590c5315e34d6e884458c4ed1271ec": {
      "model_module": "ipysheet",
      "model_module_version": "~0.4.1",
      "model_name": "CellRangeModel",
      "state": {
       "_view_module": null,
       "_view_module_version": "",
       "column_end": 3,
       "column_start": 0,
       "row_end": 0,
       "row_start": 0,
       "squeeze_column": false,
       "style": {
        "backgroundColor": "red"
       },
       "type": "numeric",
       "value": [
        0,
        1,
        2,
        3
       ]
      }
     },
     "7096b52219184bbb99b0e8c2a834fcbb": {
      "model_module": "ipysheet",
      "model_module_version": "~0.4.1",
      "model_name": "CellRangeModel",
      "state": {
       "_view_module": null,
       "_view_module_version": "",
       "column_end": 0,
       "column_start": 0,
       "row_end": 0,
       "row_start": 0,
       "type": "text",
       "value": "Hello"
      }
     },
     "714d355de86d4881b34fb804fe770008": {
      "model_module": "@jupyter-widgets/controls",
      "model_module_version": "1.4.0",
      "model_name": "SliderStyleModel",
      "state": {
       "description_width": ""
      }
     },
     "7a9609f5eb3d444485201b9424cc45eb": {
      "model_module": "@jupyter-widgets/base",
      "model_module_version": "1.1.0",
      "model_name": "LayoutModel",
      "state": {}
     },
     "7e19d6589d564fcca765396f70c0b799": {
      "model_module": "ipysheet",
      "model_module_version": "~0.4.1",
      "model_name": "CellRangeModel",
      "state": {
       "_view_module": null,
       "_view_module_version": "",
       "column_end": 0,
       "column_start": 0,
       "row_end": 2,
       "row_start": 2,
       "type": "text",
       "value": "World"
      }
     },
     "85e2ce2478f04c629dda0e83829aab0d": {
      "model_module": "@jupyter-widgets/controls",
      "model_module_version": "1.4.0",
      "model_name": "LinkModel",
      "state": {
       "source": [
        "IPY_MODEL_f0faccde3e71426a96bf6a454802b5dd",
        "value"
       ],
       "target": [
        "IPY_MODEL_3a02c16fe28c4f269b15eea3914114b6",
        "value"
       ]
      }
     },
     "8a9a9bdb7f104943b53b06d9943c3a45": {
      "model_module": "ipysheet",
      "model_module_version": "~0.4.1",
      "model_name": "CellRangeModel",
      "state": {
       "_view_module": null,
       "_view_module_version": "",
       "type": "numeric",
       "value": 2
      }
     },
     "90541fb1218742e4bcacfe67b9ee4180": {
      "model_module": "ipysheet",
      "model_module_version": "~0.4.1",
      "model_name": "CellRangeModel",
      "state": {
       "_view_module": null,
       "_view_module_version": "",
       "column_end": 0,
       "column_start": 0,
       "row_end": 2,
       "row_start": 2,
       "style": {
        "fontWeight": "bold"
       },
       "type": "text",
       "value": "sum"
      }
     },
     "9240a454a1c0450eb5b5bbb8260cb74f": {
      "model_module": "ipysheet",
      "model_module_version": "~0.4.1",
      "model_name": "SheetModel",
      "state": {
       "columns": 5,
       "layout": "IPY_MODEL_2733376ab7f14d4dbe107138963c2214",
       "rows": 5
      }
     },
     "96f01acbd7054929b95d9b6a93e80ec1": {
      "model_module": "ipysheet",
      "model_module_version": "~0.4.1",
      "model_name": "SheetModel",
      "state": {
       "cells": [
        "IPY_MODEL_078a93ab3a954e6e9fd0cb309683ad9a"
       ],
       "layout": "IPY_MODEL_bfa652564a4041be993c7b9861a94fa2"
      }
     },
     "9ed9cb9f61294fb0b9a97848d193c1db": {
      "model_module": "ipysheet",
      "model_module_version": "~0.4.1",
      "model_name": "SheetModel",
      "state": {
       "cells": [
        "IPY_MODEL_f0faccde3e71426a96bf6a454802b5dd",
        "IPY_MODEL_bf3490b9d1f948c3ab227bc5d8bb5d23",
        "IPY_MODEL_535bb3899bcf426389df0a9ed97c4e3d",
        "IPY_MODEL_d860be8268d9499ba20855a4d1eaac84",
        "IPY_MODEL_6476661bcf82408dbc65f220605068dc",
        "IPY_MODEL_a6ee3cb412cf4bd3b88fcc68accb532e"
       ],
       "column_headers": false,
       "columns": 2,
       "layout": "IPY_MODEL_1f92a18646e94c68b9424fdbc6bff1f4",
       "row_headers": false
      }
     },
     "a6ee3cb412cf4bd3b88fcc68accb532e": {
      "model_module": "ipysheet",
      "model_module_version": "~0.4.1",
      "model_name": "CellRangeModel",
      "state": {
       "_view_module": null,
       "_view_module_version": "",
       "column_end": 0,
       "column_start": 0,
       "row_end": 2,
       "row_start": 2,
       "style": {
        "fontWeight": "bold"
       },
       "type": "text",
       "value": "sum"
      }
     },
     "a8546559d0c544af840ac5212b3fe9fd": {
      "model_module": "ipysheet",
      "model_module_version": "~0.4.1",
      "model_name": "CellRangeModel",
      "state": {
       "_view_module": null,
       "_view_module_version": "",
       "column_end": 3,
       "column_start": 2,
       "row_end": 3,
       "squeeze_column": false,
       "squeeze_row": false,
       "style": {
        "backgroundColor": "yellow"
       },
       "type": "text",
       "value": [
        [
         "hi",
         "ola"
        ],
        [
         "ciao",
         "bonjour"
        ],
        [
         "hallo",
         "guten tag"
        ]
       ]
      }
     },
     "aa085b146c2241c0929ced4f8d0b8cc3": {
      "model_module": "ipysheet",
      "model_module_version": "~0.4.1",
      "model_name": "CellRangeModel",
      "state": {
       "_view_module": null,
       "_view_module_version": "",
       "column_end": 0,
       "column_start": 0,
       "row_end": 0,
       "row_start": 0,
       "style": {
        "fontWeight": "bold"
       },
       "type": "text",
       "value": "a"
      }
     },
     "ae4747feb81646a8bf093db1b62ed0a8": {
      "model_module": "@jupyter-widgets/controls",
      "model_module_version": "1.4.0",
      "model_name": "LinkModel",
      "state": {
       "source": [
        "IPY_MODEL_b1fde7c30c954ad8b0198bc66b28a121",
        "value"
       ],
       "target": [
        "IPY_MODEL_2c4fa222b61a4d518c6a40c92b040f11",
        "value"
       ]
      }
     },
     "b1fde7c30c954ad8b0198bc66b28a121": {
      "model_module": "ipysheet",
      "model_module_version": "~0.4.1",
      "model_name": "CellRangeModel",
      "state": {
       "_view_module": null,
       "_view_module_version": "",
       "row_end": 0,
       "row_start": 0,
       "type": "numeric",
       "value": 1
      }
     },
     "ba0c6a1a21624d82aa23f75afdc7666c": {
      "model_module": "ipysheet",
      "model_module_version": "~0.4.1",
      "model_name": "CellRangeModel",
      "state": {
       "_view_module": null,
       "_view_module_version": "",
       "column_end": 0,
       "column_start": 0,
       "style": {
        "fontWeight": "bold"
       },
       "type": "text",
       "value": "b"
      }
     },
     "bf3490b9d1f948c3ab227bc5d8bb5d23": {
      "model_module": "ipysheet",
      "model_module_version": "~0.4.1",
      "model_name": "CellRangeModel",
      "state": {
       "_view_module": null,
       "_view_module_version": "",
       "column_end": 0,
       "column_start": 0,
       "row_end": 0,
       "row_start": 0,
       "style": {
        "fontWeight": "bold"
       },
       "type": "text",
       "value": "a"
      }
     },
     "bfa652564a4041be993c7b9861a94fa2": {
      "model_module": "@jupyter-widgets/base",
      "model_module_version": "1.1.0",
      "model_name": "LayoutModel",
      "state": {
       "height": "auto",
       "width": "auto"
      }
     },
     "c1dbe91c4db244ceb857f8ce9401cc6a": {
      "model_module": "@jupyter-widgets/base",
      "model_module_version": "1.1.0",
      "model_name": "LayoutModel",
      "state": {
       "height": "auto",
       "width": "auto"
      }
     },
     "c5cb3daa341842a8a77d33bdaed0d179": {
      "model_module": "ipysheet",
      "model_module_version": "~0.4.1",
      "model_name": "CellRangeModel",
      "state": {
       "_view_module": null,
       "_view_module_version": "",
       "column_end": 2,
       "column_start": 2,
       "row_end": 2,
       "row_start": 2,
       "type": "numeric",
       "value": 42
      }
     },
     "d860be8268d9499ba20855a4d1eaac84": {
      "model_module": "ipysheet",
      "model_module_version": "~0.4.1",
      "model_name": "CellRangeModel",
      "state": {
       "_view_module": null,
       "_view_module_version": "",
       "column_end": 0,
       "column_start": 0,
       "style": {
        "fontWeight": "bold"
       },
       "type": "text",
       "value": "b"
      }
     },
     "d91e09a8701e4888a34550824908ab8c": {
      "model_module": "@jupyter-widgets/base",
      "model_module_version": "1.1.0",
      "model_name": "LayoutModel",
      "state": {}
     },
     "dc5faebcb39a46b4bab9fe1d6ac59dd1": {
      "model_module": "ipysheet",
      "model_module_version": "~0.4.1",
      "model_name": "SheetModel",
      "state": {
       "cells": [
        "IPY_MODEL_7096b52219184bbb99b0e8c2a834fcbb",
        "IPY_MODEL_7e19d6589d564fcca765396f70c0b799",
        "IPY_MODEL_c5cb3daa341842a8a77d33bdaed0d179"
       ],
       "layout": "IPY_MODEL_155748346e0a4bfbaa4a6cdd209755f5"
      }
     },
     "e93dd6c4fb4240478c3cbb535bf3d478": {
      "model_module": "ipysheet",
      "model_module_version": "~0.4.1",
      "model_name": "CellRangeModel",
      "state": {
       "_view_module": null,
       "_view_module_version": "",
       "row_end": 4,
       "squeeze_row": false,
       "style": {
        "backgroundColor": "green"
       },
       "type": "text",
       "value": [
        "a",
        "b",
        "c",
        "d"
       ]
      }
     },
     "ee569f56091c4b069b0ee13367c33a60": {
      "model_module": "@jupyter-widgets/controls",
      "model_module_version": "1.4.0",
      "model_name": "VBoxModel",
      "state": {
       "children": [
        "IPY_MODEL_593c55e36b1e449fba9193764c1b00ce",
        "IPY_MODEL_2c4fa222b61a4d518c6a40c92b040f11"
       ],
       "layout": "IPY_MODEL_f099a6b43c1c4a009f8b06dbb068c287"
      }
     },
     "f099a6b43c1c4a009f8b06dbb068c287": {
      "model_module": "@jupyter-widgets/base",
      "model_module_version": "1.1.0",
      "model_name": "LayoutModel",
      "state": {}
     },
     "f0faccde3e71426a96bf6a454802b5dd": {
      "model_module": "ipysheet",
      "model_module_version": "~0.4.1",
      "model_name": "CellRangeModel",
      "state": {
       "_view_module": null,
       "_view_module_version": "",
       "row_end": 0,
       "row_start": 0,
       "type": "numeric",
       "value": 1
      }
     }
    },
    "version_major": 2,
    "version_minor": 0
   }
  }
 },
 "nbformat": 4,
 "nbformat_minor": 2
}
